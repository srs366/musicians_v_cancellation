{
 "cells": [
  {
   "cell_type": "code",
   "execution_count": 1,
   "id": "d6b1eb70",
   "metadata": {},
   "outputs": [],
   "source": [
    "import pandas as pd"
   ]
  },
  {
   "cell_type": "code",
   "execution_count": 14,
   "id": "f6f2c52c",
   "metadata": {},
   "outputs": [],
   "source": [
    "df = pd.read_csv(\"../raw_data/artist_data.csv\")"
   ]
  },
  {
   "cell_type": "code",
   "execution_count": 15,
   "id": "7d276bd3",
   "metadata": {},
   "outputs": [],
   "source": [
    "df_reduced= df[['ARTIST','DATE OF CANCELLATION','CHARTMETRIC ID']]"
   ]
  },
  {
   "cell_type": "code",
   "execution_count": 16,
   "id": "672571ac",
   "metadata": {},
   "outputs": [
    {
     "name": "stdout",
     "output_type": "stream",
     "text": [
      "Nicki Minaj 3442\n",
      "Taylor Swift  2762\n",
      "DaBaby 398544\n",
      "Zayn Malik 207124\n",
      "Doja Cat 217671\n",
      "Marilyn Manson 2286\n",
      "Travis Scott 4215\n",
      "Chris Brown 2249\n",
      "Lana Del Rey 3986\n",
      "Justin Timberlake 1450\n",
      "Lizzo 210712\n",
      "Dua Lipa 538317\n",
      "Morrissey 289\n",
      "Ariana Grande 3963\n",
      "R.Kelly 511\n",
      "Arcade Fire 2014\n",
      "Lil nas X 1366172\n",
      "6ix9ine 749249\n",
      "Eminem 236\n",
      "Lea Michele 75774\n",
      "Ariel Pink 213272\n",
      "Rhye 4098\n",
      "The Orwells 206530\n",
      "Grlwood 1012968\n",
      "Anuel AA 158474\n",
      "Camila Cabello 454302\n",
      "Seungri (Bigbang) 65492\n",
      "Shakira 308\n",
      "J balvin 3883\n",
      "Kanye 1845\n",
      "Brendon Urie 2260\n",
      "Cardi B 200408\n",
      "Karol G 206809\n"
     ]
    }
   ],
   "source": [
    "for artist, artist_id in zip(df_reduced['ARTIST'], df_reduced['CHARTMETRIC ID']):\n",
    "    print(artist, artist_id)"
   ]
  }
 ],
 "metadata": {
  "kernelspec": {
   "display_name": "Python 3 (ipykernel)",
   "language": "python",
   "name": "python3"
  },
  "language_info": {
   "codemirror_mode": {
    "name": "ipython",
    "version": 3
   },
   "file_extension": ".py",
   "mimetype": "text/x-python",
   "name": "python",
   "nbconvert_exporter": "python",
   "pygments_lexer": "ipython3",
   "version": "3.8.12"
  },
  "toc": {
   "base_numbering": 1,
   "nav_menu": {},
   "number_sections": true,
   "sideBar": true,
   "skip_h1_title": false,
   "title_cell": "Table of Contents",
   "title_sidebar": "Contents",
   "toc_cell": false,
   "toc_position": {},
   "toc_section_display": true,
   "toc_window_display": false
  }
 },
 "nbformat": 4,
 "nbformat_minor": 5
}
