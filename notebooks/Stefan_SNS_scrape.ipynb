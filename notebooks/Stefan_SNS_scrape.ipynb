{
 "cells": [
  {
   "cell_type": "markdown",
   "id": "716f8e63",
   "metadata": {},
   "source": [
    "# SNS SCRAPE"
   ]
  },
  {
   "cell_type": "markdown",
   "id": "a75a9c81",
   "metadata": {},
   "source": [
    "### Install SNS Scrape"
   ]
  },
  {
   "cell_type": "code",
   "execution_count": 1,
   "id": "04ebd092",
   "metadata": {},
   "outputs": [
    {
     "name": "stdout",
     "output_type": "stream",
     "text": [
      "Requirement already satisfied: snscrape in /Users/stefantonto/.pyenv/versions/3.8.12/envs/cancelled/lib/python3.8/site-packages (0.4.3.20220106)\n",
      "Requirement already satisfied: requests[socks] in /Users/stefantonto/.pyenv/versions/3.8.12/envs/cancelled/lib/python3.8/site-packages (from snscrape) (2.28.1)\n",
      "Requirement already satisfied: lxml in /Users/stefantonto/.pyenv/versions/3.8.12/envs/cancelled/lib/python3.8/site-packages (from snscrape) (4.9.1)\n",
      "Requirement already satisfied: filelock in /Users/stefantonto/.pyenv/versions/3.8.12/envs/cancelled/lib/python3.8/site-packages (from snscrape) (3.8.0)\n",
      "Requirement already satisfied: beautifulsoup4 in /Users/stefantonto/.pyenv/versions/3.8.12/envs/cancelled/lib/python3.8/site-packages (from snscrape) (4.11.1)\n",
      "Requirement already satisfied: pytz in /Users/stefantonto/.pyenv/versions/3.8.12/envs/cancelled/lib/python3.8/site-packages (from snscrape) (2022.2.1)\n",
      "Requirement already satisfied: soupsieve>1.2 in /Users/stefantonto/.pyenv/versions/3.8.12/envs/cancelled/lib/python3.8/site-packages (from beautifulsoup4->snscrape) (2.3.2.post1)\n",
      "Requirement already satisfied: certifi>=2017.4.17 in /Users/stefantonto/.pyenv/versions/3.8.12/envs/cancelled/lib/python3.8/site-packages (from requests[socks]->snscrape) (2022.6.15)\n",
      "Requirement already satisfied: idna<4,>=2.5 in /Users/stefantonto/.pyenv/versions/3.8.12/envs/cancelled/lib/python3.8/site-packages (from requests[socks]->snscrape) (3.3)\n",
      "Requirement already satisfied: urllib3<1.27,>=1.21.1 in /Users/stefantonto/.pyenv/versions/3.8.12/envs/cancelled/lib/python3.8/site-packages (from requests[socks]->snscrape) (1.26.12)\n",
      "Requirement already satisfied: charset-normalizer<3,>=2 in /Users/stefantonto/.pyenv/versions/3.8.12/envs/cancelled/lib/python3.8/site-packages (from requests[socks]->snscrape) (2.1.1)\n",
      "Requirement already satisfied: PySocks!=1.5.7,>=1.5.6 in /Users/stefantonto/.pyenv/versions/3.8.12/envs/cancelled/lib/python3.8/site-packages (from requests[socks]->snscrape) (1.7.1)\n"
     ]
    }
   ],
   "source": [
    "!pip install snscrape"
   ]
  },
  {
   "cell_type": "markdown",
   "id": "f543f53a",
   "metadata": {},
   "source": [
    "### Setup SNS Scrape for our Tweets"
   ]
  },
  {
   "cell_type": "code",
   "execution_count": 98,
   "id": "9b341900",
   "metadata": {
    "scrolled": true
   },
   "outputs": [],
   "source": [
    "import snscrape.modules.twitter as sntwitter\n",
    "from datetime import datetime,timedelta\n",
    "from dateutil.relativedelta import relativedelta\n",
    "import pandas as pd\n",
    "\n",
    "\n",
    "def run_the_tweet(keywords,incident_date, n_months, min_retweets, language):\n",
    "    date_format = '%Y-%m-%d'\n",
    "    dtObj = datetime.strptime(incident_date, date_format)\n",
    "    \n",
    "    begin_date = (dtObj - relativedelta(months=n_months)).date()\n",
    "    since_date = (dtObj - relativedelta(months=n_months)).date()\n",
    "    \n",
    "    until_date = since_date + timedelta(days=1)\n",
    "    final_date = (dtObj + relativedelta(months=n_months)).date()\n",
    "    \n",
    "    n_days = (final_date-since_date).days\n",
    "    \n",
    "    query = \" OR \".join(keywords)\n",
    "    if len(keywords) == 1:\n",
    "        query = keywords[0]\n",
    "    tweets_list= []\n",
    "    for x in range(n_days): #no. of days\n",
    "        for i,tweet in enumerate(sntwitter.TwitterSearchScraper(f'{query} since:{since_date.strftime(date_format)} until:{until_date.strftime(date_format)}  min_retweets:{min_retweets} lang:{language}').get_items()):\n",
    "            if i > 50: #no. of output tweet\n",
    "                break\n",
    "            else:\n",
    "                tweets_list.append([tweet.date, tweet.retweetCount, tweet.likeCount, tweet.content, tweet.user.username]) #append if statement satisfy\n",
    "        if x < n_days : # no. of days you want to be return\n",
    "            since_date = since_date + timedelta(days=1) #add another day\n",
    "            until_date = until_date + timedelta(days=1) #add another day\n",
    "        else:\n",
    "            break\n",
    "    tweets_df = pd.DataFrame(tweets_list, columns=['Datetime',\"retweet\",\"likes\", 'Text', 'Username'])\n",
    "    return tweets_df"
   ]
  },
  {
   "cell_type": "markdown",
   "id": "3bc94c92",
   "metadata": {},
   "source": [
    "### Clean Tweets"
   ]
  },
  {
   "cell_type": "code",
   "execution_count": 3,
   "id": "9b48461f",
   "metadata": {},
   "outputs": [
    {
     "name": "stdout",
     "output_type": "stream",
     "text": [
      "Requirement already satisfied: nltk in /Users/stefantonto/.pyenv/versions/3.8.12/envs/cancelled/lib/python3.8/site-packages (3.7)\r\n",
      "Requirement already satisfied: click in /Users/stefantonto/.pyenv/versions/3.8.12/envs/cancelled/lib/python3.8/site-packages (from nltk) (8.1.3)\r\n",
      "Requirement already satisfied: tqdm in /Users/stefantonto/.pyenv/versions/3.8.12/envs/cancelled/lib/python3.8/site-packages (from nltk) (4.64.1)\r\n",
      "Requirement already satisfied: joblib in /Users/stefantonto/.pyenv/versions/3.8.12/envs/cancelled/lib/python3.8/site-packages (from nltk) (1.1.0)\r\n",
      "Requirement already satisfied: regex>=2021.8.3 in /Users/stefantonto/.pyenv/versions/3.8.12/envs/cancelled/lib/python3.8/site-packages (from nltk) (2022.8.17)\r\n"
     ]
    }
   ],
   "source": [
    "!pip install nltk"
   ]
  },
  {
   "cell_type": "code",
   "execution_count": 4,
   "id": "59bd1fa8",
   "metadata": {},
   "outputs": [
    {
     "name": "stdout",
     "output_type": "stream",
     "text": [
      "Requirement already satisfied: emot in /Users/stefantonto/.pyenv/versions/3.8.12/envs/cancelled/lib/python3.8/site-packages (3.1)\r\n"
     ]
    }
   ],
   "source": [
    "!pip install emot"
   ]
  },
  {
   "cell_type": "code",
   "execution_count": 5,
   "id": "84d21f52",
   "metadata": {},
   "outputs": [
    {
     "name": "stdout",
     "output_type": "stream",
     "text": [
      "Requirement already satisfied: emoji in /Users/stefantonto/.pyenv/versions/3.8.12/envs/cancelled/lib/python3.8/site-packages (1.7.0)\r\n"
     ]
    }
   ],
   "source": [
    "!pip install emoji"
   ]
  },
  {
   "cell_type": "code",
   "execution_count": 6,
   "id": "bc84ef67",
   "metadata": {},
   "outputs": [
    {
     "name": "stdout",
     "output_type": "stream",
     "text": [
      "Requirement already satisfied: clean-text in /Users/stefantonto/.pyenv/versions/3.8.12/envs/cancelled/lib/python3.8/site-packages (0.6.0)\n",
      "Requirement already satisfied: emoji<2.0.0,>=1.0.0 in /Users/stefantonto/.pyenv/versions/3.8.12/envs/cancelled/lib/python3.8/site-packages (from clean-text) (1.7.0)\n",
      "Requirement already satisfied: ftfy<7.0,>=6.0 in /Users/stefantonto/.pyenv/versions/3.8.12/envs/cancelled/lib/python3.8/site-packages (from clean-text) (6.1.1)\n",
      "Requirement already satisfied: wcwidth>=0.2.5 in /Users/stefantonto/.pyenv/versions/3.8.12/envs/cancelled/lib/python3.8/site-packages (from ftfy<7.0,>=6.0->clean-text) (0.2.5)\n",
      "Note: you may need to restart the kernel to use updated packages.\n"
     ]
    }
   ],
   "source": [
    "pip install clean-text"
   ]
  },
  {
   "cell_type": "code",
   "execution_count": 99,
   "id": "2ba8894c",
   "metadata": {
    "scrolled": true
   },
   "outputs": [
    {
     "name": "stderr",
     "output_type": "stream",
     "text": [
      "[nltk_data] Downloading package wordnet to\n",
      "[nltk_data]     /Users/stefantonto/nltk_data...\n",
      "[nltk_data]   Package wordnet is already up-to-date!\n",
      "[nltk_data] Downloading package omw-1.4 to\n",
      "[nltk_data]     /Users/stefantonto/nltk_data...\n",
      "[nltk_data]   Package omw-1.4 is already up-to-date!\n"
     ]
    }
   ],
   "source": [
    "import re\n",
    "import string\n",
    "import nltk\n",
    "nltk.download('wordnet')\n",
    "nltk.download('omw-1.4')\n",
    "from nltk.corpus import stopwords\n",
    "from nltk.stem import WordNetLemmatizer\n",
    "from nltk.tokenize import word_tokenize\n",
    "from nltk.stem import PorterStemmer\n",
    "from nltk.tokenize import sent_tokenize, word_tokenize\n",
    "import emoji\n",
    "from cleantext import clean\n",
    "\n",
    "\n",
    "import string\n",
    "import re\n",
    "\n",
    "from emot.emo_unicode import UNICODE_EMOJI\n",
    "\n",
    "def clean_text(text):\n",
    "    #changing to lowercase\n",
    "    text = text.lower()\n",
    "    \n",
    "    # removing #´s \n",
    "    text = re.sub(r'#[A-Za-z0-9]+', '', text)\n",
    "    text = re.sub(r'#', '', text)\n",
    "    \n",
    "    #remove RT\n",
    "    text = re.sub(r'RT[\\s]+', '', text)\n",
    "    \n",
    "    #remove links\n",
    "    text = re.sub(r'https?:\\/\\/\\S+', '', text)\n",
    "    text = re.sub(r\"www.\\S+\", \"\", text)\n",
    "    \n",
    "    #remove indentation\n",
    "    text = re.sub(r'\\n', '', text)\n",
    "\n",
    "    #remove emojis\n",
    "    text = clean(text, no_emoji=True)\n",
    "    \n",
    "    \n",
    "    #tokenizing words\n",
    "    tokens = word_tokenize(text)\n",
    "    \n",
    "    filtered_words = [w for w in tokens if w not in list(UNICODE_EMOJI.keys())]\n",
    "    \n",
    "    return text"
   ]
  },
  {
   "cell_type": "markdown",
   "id": "5e33c790",
   "metadata": {},
   "source": [
    "***\n",
    "# SENTIMENT ANALYSIS"
   ]
  },
  {
   "cell_type": "code",
   "execution_count": 9,
   "id": "632881e8",
   "metadata": {},
   "outputs": [
    {
     "name": "stdout",
     "output_type": "stream",
     "text": [
      "Requirement already satisfied: transformers in /Users/stefantonto/.pyenv/versions/3.8.12/envs/cancelled/lib/python3.8/site-packages (4.21.3)\n",
      "Requirement already satisfied: huggingface-hub<1.0,>=0.1.0 in /Users/stefantonto/.pyenv/versions/3.8.12/envs/cancelled/lib/python3.8/site-packages (from transformers) (0.9.1)\n",
      "Requirement already satisfied: numpy>=1.17 in /Users/stefantonto/.pyenv/versions/3.8.12/envs/cancelled/lib/python3.8/site-packages (from transformers) (1.23.2)\n",
      "Requirement already satisfied: regex!=2019.12.17 in /Users/stefantonto/.pyenv/versions/3.8.12/envs/cancelled/lib/python3.8/site-packages (from transformers) (2022.8.17)\n",
      "Requirement already satisfied: packaging>=20.0 in /Users/stefantonto/.pyenv/versions/3.8.12/envs/cancelled/lib/python3.8/site-packages (from transformers) (21.3)\n",
      "Requirement already satisfied: tqdm>=4.27 in /Users/stefantonto/.pyenv/versions/3.8.12/envs/cancelled/lib/python3.8/site-packages (from transformers) (4.64.1)\n",
      "Requirement already satisfied: filelock in /Users/stefantonto/.pyenv/versions/3.8.12/envs/cancelled/lib/python3.8/site-packages (from transformers) (3.8.0)\n",
      "Requirement already satisfied: pyyaml>=5.1 in /Users/stefantonto/.pyenv/versions/3.8.12/envs/cancelled/lib/python3.8/site-packages (from transformers) (6.0)\n",
      "Requirement already satisfied: tokenizers!=0.11.3,<0.13,>=0.11.1 in /Users/stefantonto/.pyenv/versions/3.8.12/envs/cancelled/lib/python3.8/site-packages (from transformers) (0.12.1)\n",
      "Requirement already satisfied: requests in /Users/stefantonto/.pyenv/versions/3.8.12/envs/cancelled/lib/python3.8/site-packages (from transformers) (2.28.1)\n",
      "Requirement already satisfied: typing-extensions>=3.7.4.3 in /Users/stefantonto/.pyenv/versions/3.8.12/envs/cancelled/lib/python3.8/site-packages (from huggingface-hub<1.0,>=0.1.0->transformers) (4.3.0)\n",
      "Requirement already satisfied: pyparsing!=3.0.5,>=2.0.2 in /Users/stefantonto/.pyenv/versions/3.8.12/envs/cancelled/lib/python3.8/site-packages (from packaging>=20.0->transformers) (3.0.9)\n",
      "Requirement already satisfied: certifi>=2017.4.17 in /Users/stefantonto/.pyenv/versions/3.8.12/envs/cancelled/lib/python3.8/site-packages (from requests->transformers) (2022.6.15)\n",
      "Requirement already satisfied: idna<4,>=2.5 in /Users/stefantonto/.pyenv/versions/3.8.12/envs/cancelled/lib/python3.8/site-packages (from requests->transformers) (3.3)\n",
      "Requirement already satisfied: charset-normalizer<3,>=2 in /Users/stefantonto/.pyenv/versions/3.8.12/envs/cancelled/lib/python3.8/site-packages (from requests->transformers) (2.1.1)\n",
      "Requirement already satisfied: urllib3<1.27,>=1.21.1 in /Users/stefantonto/.pyenv/versions/3.8.12/envs/cancelled/lib/python3.8/site-packages (from requests->transformers) (1.26.12)\n"
     ]
    }
   ],
   "source": [
    "!pip install transformers"
   ]
  },
  {
   "cell_type": "code",
   "execution_count": 10,
   "id": "daa738d4",
   "metadata": {},
   "outputs": [
    {
     "name": "stdout",
     "output_type": "stream",
     "text": [
      "Collecting torch\n",
      "  Downloading torch-1.12.1-cp38-none-macosx_10_9_x86_64.whl (137.8 MB)\n",
      "\u001b[2K     \u001b[90m━━━━━━━━━━━━━━━━━━━━━━━━━━━━━━━━━━━━━━━\u001b[0m \u001b[32m137.8/137.8 MB\u001b[0m \u001b[31m3.7 MB/s\u001b[0m eta \u001b[36m0:00:00\u001b[0m00:01\u001b[0m00:01\u001b[0m\n",
      "\u001b[?25hRequirement already satisfied: typing-extensions in /Users/stefantonto/.pyenv/versions/3.8.12/envs/cancelled/lib/python3.8/site-packages (from torch) (4.3.0)\n",
      "Installing collected packages: torch\n",
      "Successfully installed torch-1.12.1\n"
     ]
    }
   ],
   "source": [
    "!pip install torch"
   ]
  },
  {
   "cell_type": "code",
   "execution_count": 11,
   "id": "86c47fc8",
   "metadata": {
    "scrolled": false
   },
   "outputs": [
    {
     "name": "stderr",
     "output_type": "stream",
     "text": [
      "/Users/stefantonto/.pyenv/versions/3.8.12/envs/cancelled/lib/python3.8/site-packages/tqdm/auto.py:22: TqdmWarning: IProgress not found. Please update jupyter and ipywidgets. See https://ipywidgets.readthedocs.io/en/stable/user_install.html\n",
      "  from .autonotebook import tqdm as notebook_tqdm\n",
      "Downloading pytorch_model.bin: 100%|█████████| 478M/478M [01:27<00:00, 5.76MB/s]\n",
      "Some weights of the model checkpoint at cardiffnlp/twitter-roberta-base-sentiment-latest were not used when initializing RobertaForSequenceClassification: ['roberta.pooler.dense.bias', 'roberta.pooler.dense.weight']\n",
      "- This IS expected if you are initializing RobertaForSequenceClassification from the checkpoint of a model trained on another task or with another architecture (e.g. initializing a BertForSequenceClassification model from a BertForPreTraining model).\n",
      "- This IS NOT expected if you are initializing RobertaForSequenceClassification from the checkpoint of a model that you expect to be exactly identical (initializing a BertForSequenceClassification model from a BertForSequenceClassification model).\n"
     ]
    }
   ],
   "source": [
    "from transformers import AutoTokenizer, AutoModelForSequenceClassification\n",
    "\n",
    "tokenizer = AutoTokenizer.from_pretrained(\"cardiffnlp/twitter-roberta-base-sentiment-latest\")\n",
    "\n",
    "model = AutoModelForSequenceClassification.from_pretrained(\"cardiffnlp/twitter-roberta-base-sentiment-latest\")"
   ]
  },
  {
   "cell_type": "code",
   "execution_count": 33,
   "id": "8fd47136",
   "metadata": {},
   "outputs": [],
   "source": [
    "from transformers import pipeline\n",
    "\n",
    "sentiment_task = pipeline(\"sentiment-analysis\", model= model, tokenizer= tokenizer, top_k=3)"
   ]
  },
  {
   "cell_type": "code",
   "execution_count": 34,
   "id": "287b4071",
   "metadata": {},
   "outputs": [],
   "source": [
    "chris_brown_tweets = run_the_tweet([\"chris brown\"], \"2022-08-07\" ,1, \"10\", \"en\")"
   ]
  },
  {
   "cell_type": "code",
   "execution_count": 35,
   "id": "50a94752",
   "metadata": {},
   "outputs": [],
   "source": [
    "chris_brown_tweets['cleaned_tweet'] = chris_brown_tweets.Text.apply(clean_text)"
   ]
  },
  {
   "cell_type": "code",
   "execution_count": 36,
   "id": "ed96ea5f",
   "metadata": {},
   "outputs": [
    {
     "data": {
      "text/html": [
       "<div>\n",
       "<style scoped>\n",
       "    .dataframe tbody tr th:only-of-type {\n",
       "        vertical-align: middle;\n",
       "    }\n",
       "\n",
       "    .dataframe tbody tr th {\n",
       "        vertical-align: top;\n",
       "    }\n",
       "\n",
       "    .dataframe thead th {\n",
       "        text-align: right;\n",
       "    }\n",
       "</style>\n",
       "<table border=\"1\" class=\"dataframe\">\n",
       "  <thead>\n",
       "    <tr style=\"text-align: right;\">\n",
       "      <th></th>\n",
       "      <th>Datetime</th>\n",
       "      <th>retweet</th>\n",
       "      <th>likes</th>\n",
       "      <th>Text</th>\n",
       "      <th>Username</th>\n",
       "      <th>cleaned_tweet</th>\n",
       "    </tr>\n",
       "  </thead>\n",
       "  <tbody>\n",
       "    <tr>\n",
       "      <th>0</th>\n",
       "      <td>2022-07-07 23:59:21+00:00</td>\n",
       "      <td>40</td>\n",
       "      <td>159</td>\n",
       "      <td>Davido owe Shakespeare nothing, absolutely NOT...</td>\n",
       "      <td>30BG_CEO</td>\n",
       "      <td>davido owe shakespeare nothing, absolutely not...</td>\n",
       "    </tr>\n",
       "    <tr>\n",
       "      <th>1</th>\n",
       "      <td>2022-07-07 23:58:01+00:00</td>\n",
       "      <td>159</td>\n",
       "      <td>771</td>\n",
       "      <td>Davido and Chris brown is like Boli and ground...</td>\n",
       "      <td>Tobiloba_mide</td>\n",
       "      <td>davido and chris brown is like boli and ground...</td>\n",
       "    </tr>\n",
       "    <tr>\n",
       "      <th>2</th>\n",
       "      <td>2022-07-07 23:57:17+00:00</td>\n",
       "      <td>182</td>\n",
       "      <td>1045</td>\n",
       "      <td>Davido and Chris brown no Dey miss🔥🚨</td>\n",
       "      <td>malcom_xo</td>\n",
       "      <td>davido and chris brown no dey miss</td>\n",
       "    </tr>\n",
       "    <tr>\n",
       "      <th>3</th>\n",
       "      <td>2022-07-08 23:41:28+00:00</td>\n",
       "      <td>57</td>\n",
       "      <td>413</td>\n",
       "      <td>Davido, Chris Brown &amp;amp; Nobody Has To Know i...</td>\n",
       "      <td>lifeofolaa</td>\n",
       "      <td>davido, chris brown &amp; nobody has to know is tr...</td>\n",
       "    </tr>\n",
       "    <tr>\n",
       "      <th>4</th>\n",
       "      <td>2022-07-08 23:38:02+00:00</td>\n",
       "      <td>97</td>\n",
       "      <td>776</td>\n",
       "      <td>Chris brown ft Davido Nobody has to know is 🙌🏻...</td>\n",
       "      <td>Amara_Layo</td>\n",
       "      <td>chris brown ft davido nobody has to know is ev...</td>\n",
       "    </tr>\n",
       "    <tr>\n",
       "      <th>...</th>\n",
       "      <td>...</td>\n",
       "      <td>...</td>\n",
       "      <td>...</td>\n",
       "      <td>...</td>\n",
       "      <td>...</td>\n",
       "      <td>...</td>\n",
       "    </tr>\n",
       "    <tr>\n",
       "      <th>181</th>\n",
       "      <td>2022-09-05 21:24:41+00:00</td>\n",
       "      <td>29</td>\n",
       "      <td>38</td>\n",
       "      <td>Jay bahd be weed smoker, Philan be mmaa p3 kil...</td>\n",
       "      <td>kwesi_zitojnr</td>\n",
       "      <td>jay bahd be weed smoker, philan be mmaa p3 kil...</td>\n",
       "    </tr>\n",
       "    <tr>\n",
       "      <th>182</th>\n",
       "      <td>2022-09-05 20:51:42+00:00</td>\n",
       "      <td>16</td>\n",
       "      <td>95</td>\n",
       "      <td>|🚨\\nExtra Spotify Update — Streams\\n\\n•Time N ...</td>\n",
       "      <td>RemaStats</td>\n",
       "      <td>|extra spotify update streamstime n affection ...</td>\n",
       "    </tr>\n",
       "    <tr>\n",
       "      <th>183</th>\n",
       "      <td>2022-09-06 22:23:42+00:00</td>\n",
       "      <td>26</td>\n",
       "      <td>104</td>\n",
       "      <td>I don't know if I am the only one but I feel “...</td>\n",
       "      <td>RabsonLee</td>\n",
       "      <td>i don't know if i am the only one but i feel \"...</td>\n",
       "    </tr>\n",
       "    <tr>\n",
       "      <th>184</th>\n",
       "      <td>2022-09-06 21:50:24+00:00</td>\n",
       "      <td>38</td>\n",
       "      <td>188</td>\n",
       "      <td>The Goat @davido and his fellow American Goat ...</td>\n",
       "      <td>30BG_CEO</td>\n",
       "      <td>the goat @davido and his fellow american goat ...</td>\n",
       "    </tr>\n",
       "    <tr>\n",
       "      <th>185</th>\n",
       "      <td>2022-09-06 21:27:13+00:00</td>\n",
       "      <td>31</td>\n",
       "      <td>147</td>\n",
       "      <td>.@chrisbrown has officially released ‘Under Th...</td>\n",
       "      <td>Tiomoney1308</td>\n",
       "      <td>.@chrisbrown has officially released 'under th...</td>\n",
       "    </tr>\n",
       "  </tbody>\n",
       "</table>\n",
       "<p>186 rows × 6 columns</p>\n",
       "</div>"
      ],
      "text/plain": [
       "                     Datetime  retweet  likes  \\\n",
       "0   2022-07-07 23:59:21+00:00       40    159   \n",
       "1   2022-07-07 23:58:01+00:00      159    771   \n",
       "2   2022-07-07 23:57:17+00:00      182   1045   \n",
       "3   2022-07-08 23:41:28+00:00       57    413   \n",
       "4   2022-07-08 23:38:02+00:00       97    776   \n",
       "..                        ...      ...    ...   \n",
       "181 2022-09-05 21:24:41+00:00       29     38   \n",
       "182 2022-09-05 20:51:42+00:00       16     95   \n",
       "183 2022-09-06 22:23:42+00:00       26    104   \n",
       "184 2022-09-06 21:50:24+00:00       38    188   \n",
       "185 2022-09-06 21:27:13+00:00       31    147   \n",
       "\n",
       "                                                  Text       Username  \\\n",
       "0    Davido owe Shakespeare nothing, absolutely NOT...       30BG_CEO   \n",
       "1    Davido and Chris brown is like Boli and ground...  Tobiloba_mide   \n",
       "2                 Davido and Chris brown no Dey miss🔥🚨      malcom_xo   \n",
       "3    Davido, Chris Brown &amp; Nobody Has To Know i...     lifeofolaa   \n",
       "4    Chris brown ft Davido Nobody has to know is 🙌🏻...     Amara_Layo   \n",
       "..                                                 ...            ...   \n",
       "181  Jay bahd be weed smoker, Philan be mmaa p3 kil...  kwesi_zitojnr   \n",
       "182  |🚨\\nExtra Spotify Update — Streams\\n\\n•Time N ...      RemaStats   \n",
       "183  I don't know if I am the only one but I feel “...      RabsonLee   \n",
       "184  The Goat @davido and his fellow American Goat ...       30BG_CEO   \n",
       "185  .@chrisbrown has officially released ‘Under Th...   Tiomoney1308   \n",
       "\n",
       "                                         cleaned_tweet  \n",
       "0    davido owe shakespeare nothing, absolutely not...  \n",
       "1    davido and chris brown is like boli and ground...  \n",
       "2                   davido and chris brown no dey miss  \n",
       "3    davido, chris brown & nobody has to know is tr...  \n",
       "4    chris brown ft davido nobody has to know is ev...  \n",
       "..                                                 ...  \n",
       "181  jay bahd be weed smoker, philan be mmaa p3 kil...  \n",
       "182  |extra spotify update streamstime n affection ...  \n",
       "183  i don't know if i am the only one but i feel \"...  \n",
       "184  the goat @davido and his fellow american goat ...  \n",
       "185  .@chrisbrown has officially released 'under th...  \n",
       "\n",
       "[186 rows x 6 columns]"
      ]
     },
     "execution_count": 36,
     "metadata": {},
     "output_type": "execute_result"
    }
   ],
   "source": [
    "chris_brown_tweets"
   ]
  },
  {
   "cell_type": "code",
   "execution_count": 89,
   "id": "cea32a76",
   "metadata": {},
   "outputs": [],
   "source": [
    "ts_tweets = run_the_tweet([\"Taylor Swift\"], \"2022-07-31\" ,1, \"10\", \"en\")"
   ]
  },
  {
   "cell_type": "code",
   "execution_count": 90,
   "id": "0ae57303",
   "metadata": {},
   "outputs": [
    {
     "data": {
      "text/html": [
       "<div>\n",
       "<style scoped>\n",
       "    .dataframe tbody tr th:only-of-type {\n",
       "        vertical-align: middle;\n",
       "    }\n",
       "\n",
       "    .dataframe tbody tr th {\n",
       "        vertical-align: top;\n",
       "    }\n",
       "\n",
       "    .dataframe thead th {\n",
       "        text-align: right;\n",
       "    }\n",
       "</style>\n",
       "<table border=\"1\" class=\"dataframe\">\n",
       "  <thead>\n",
       "    <tr style=\"text-align: right;\">\n",
       "      <th></th>\n",
       "      <th>Datetime</th>\n",
       "      <th>retweet</th>\n",
       "      <th>likes</th>\n",
       "      <th>Text</th>\n",
       "      <th>Username</th>\n",
       "    </tr>\n",
       "  </thead>\n",
       "  <tbody>\n",
       "    <tr>\n",
       "      <th>0</th>\n",
       "      <td>2022-06-30 23:47:21+00:00</td>\n",
       "      <td>49</td>\n",
       "      <td>245</td>\n",
       "      <td>Most streamed artists on Global Spotify (June ...</td>\n",
       "      <td>WORLDMUSICAWARD</td>\n",
       "    </tr>\n",
       "    <tr>\n",
       "      <th>1</th>\n",
       "      <td>2022-06-30 23:36:15+00:00</td>\n",
       "      <td>1065</td>\n",
       "      <td>12458</td>\n",
       "      <td>Taylor Swift is engaged to Joe Alwyn: report h...</td>\n",
       "      <td>nypost</td>\n",
       "    </tr>\n",
       "    <tr>\n",
       "      <th>2</th>\n",
       "      <td>2022-06-30 23:20:45+00:00</td>\n",
       "      <td>51</td>\n",
       "      <td>826</td>\n",
       "      <td>does it ever hit you that phoebe bridgers and ...</td>\n",
       "      <td>phoebesmoons</td>\n",
       "    </tr>\n",
       "    <tr>\n",
       "      <th>3</th>\n",
       "      <td>2022-07-01 23:56:00+00:00</td>\n",
       "      <td>24</td>\n",
       "      <td>167</td>\n",
       "      <td>@taylorswift13 We will forever be streaming Ta...</td>\n",
       "      <td>TheSwiftSociety</td>\n",
       "    </tr>\n",
       "    <tr>\n",
       "      <th>4</th>\n",
       "      <td>2022-07-01 23:51:09+00:00</td>\n",
       "      <td>51</td>\n",
       "      <td>404</td>\n",
       "      <td>#StrangerThings and taylor swift parallels htt...</td>\n",
       "      <td>W00DVALE</td>\n",
       "    </tr>\n",
       "    <tr>\n",
       "      <th>...</th>\n",
       "      <td>...</td>\n",
       "      <td>...</td>\n",
       "      <td>...</td>\n",
       "      <td>...</td>\n",
       "      <td>...</td>\n",
       "    </tr>\n",
       "    <tr>\n",
       "      <th>181</th>\n",
       "      <td>2022-08-29 23:57:14+00:00</td>\n",
       "      <td>31</td>\n",
       "      <td>257</td>\n",
       "      <td>🚨| @taylorswift13’s #MidnighTS announcement ha...</td>\n",
       "      <td>TayliviaTeam</td>\n",
       "    </tr>\n",
       "    <tr>\n",
       "      <th>182</th>\n",
       "      <td>2022-08-29 23:54:47+00:00</td>\n",
       "      <td>75</td>\n",
       "      <td>1506</td>\n",
       "      <td>@leosneedy @PopBase @taylorswift13 Yes, and it...</td>\n",
       "      <td>mainpopgirI</td>\n",
       "    </tr>\n",
       "    <tr>\n",
       "      <th>183</th>\n",
       "      <td>2022-08-30 23:59:17+00:00</td>\n",
       "      <td>26</td>\n",
       "      <td>328</td>\n",
       "      <td>i’ve never been able to afford tickets to see ...</td>\n",
       "      <td>ghostofeste</td>\n",
       "    </tr>\n",
       "    <tr>\n",
       "      <th>184</th>\n",
       "      <td>2022-08-30 23:59:04+00:00</td>\n",
       "      <td>151</td>\n",
       "      <td>1789</td>\n",
       "      <td>dylan o’brien as taylor swifts “midnights” htt...</td>\n",
       "      <td>visionaryfxs</td>\n",
       "    </tr>\n",
       "    <tr>\n",
       "      <th>185</th>\n",
       "      <td>2022-08-30 23:58:29+00:00</td>\n",
       "      <td>1146</td>\n",
       "      <td>8350</td>\n",
       "      <td>Most streamed female artists on Spotify on Mon...</td>\n",
       "      <td>spotify_data</td>\n",
       "    </tr>\n",
       "  </tbody>\n",
       "</table>\n",
       "<p>186 rows × 5 columns</p>\n",
       "</div>"
      ],
      "text/plain": [
       "                     Datetime  retweet  likes  \\\n",
       "0   2022-06-30 23:47:21+00:00       49    245   \n",
       "1   2022-06-30 23:36:15+00:00     1065  12458   \n",
       "2   2022-06-30 23:20:45+00:00       51    826   \n",
       "3   2022-07-01 23:56:00+00:00       24    167   \n",
       "4   2022-07-01 23:51:09+00:00       51    404   \n",
       "..                        ...      ...    ...   \n",
       "181 2022-08-29 23:57:14+00:00       31    257   \n",
       "182 2022-08-29 23:54:47+00:00       75   1506   \n",
       "183 2022-08-30 23:59:17+00:00       26    328   \n",
       "184 2022-08-30 23:59:04+00:00      151   1789   \n",
       "185 2022-08-30 23:58:29+00:00     1146   8350   \n",
       "\n",
       "                                                  Text         Username  \n",
       "0    Most streamed artists on Global Spotify (June ...  WORLDMUSICAWARD  \n",
       "1    Taylor Swift is engaged to Joe Alwyn: report h...           nypost  \n",
       "2    does it ever hit you that phoebe bridgers and ...     phoebesmoons  \n",
       "3    @taylorswift13 We will forever be streaming Ta...  TheSwiftSociety  \n",
       "4    #StrangerThings and taylor swift parallels htt...         W00DVALE  \n",
       "..                                                 ...              ...  \n",
       "181  🚨| @taylorswift13’s #MidnighTS announcement ha...     TayliviaTeam  \n",
       "182  @leosneedy @PopBase @taylorswift13 Yes, and it...      mainpopgirI  \n",
       "183  i’ve never been able to afford tickets to see ...      ghostofeste  \n",
       "184  dylan o’brien as taylor swifts “midnights” htt...     visionaryfxs  \n",
       "185  Most streamed female artists on Spotify on Mon...     spotify_data  \n",
       "\n",
       "[186 rows x 5 columns]"
      ]
     },
     "execution_count": 90,
     "metadata": {},
     "output_type": "execute_result"
    }
   ],
   "source": [
    "ts_tweets"
   ]
  },
  {
   "cell_type": "code",
   "execution_count": 91,
   "id": "50c7bfea",
   "metadata": {},
   "outputs": [],
   "source": [
    "ts_tweets['cleaned_tweet'] = ts_tweets.Text.apply(clean_text)"
   ]
  },
  {
   "cell_type": "code",
   "execution_count": 92,
   "id": "aaa57467",
   "metadata": {},
   "outputs": [],
   "source": [
    "def get_sentiment_score_dictionary(df_cleanedtext):\n",
    "    list_sentiments = []\n",
    "    for tweet in ts_tweets.cleaned_tweet:\n",
    "        sentiment_task_result = sentiment_task(tweet)[0]\n",
    "        tweet_sentiment = {}\n",
    "        for label in sentiment_task_result:\n",
    "            if label['label'] == 'Neutral':\n",
    "                tweet_sentiment['Neutral'] = label['score']\n",
    "            elif label['label'] == 'Positive':\n",
    "                tweet_sentiment['Positive'] = label['score']\n",
    "            else:\n",
    "                tweet_sentiment['Negative'] = label['score']\n",
    "        list_sentiments.append(tweet_sentiment)\n",
    "    return list_sentiments\n",
    "\n",
    "def get_sentiment_score_classification(list_sentiments):\n",
    "    sentiment_classifications = []\n",
    "    for list_sentiment in list_sentiments:\n",
    "        if (list_sentiment['Positive'] > list_sentiment['Negative']) and (list_sentiment['Positive'] > list_sentiment['Neutral']):\n",
    "            sentiment_classifications.append('Positive')\n",
    "        elif (list_sentiment['Neutral'] > list_sentiment['Negative']) and (list_sentiment['Positive'] < list_sentiment['Neutral']):\n",
    "            sentiment_classifications.append('Neutral')\n",
    "        else:\n",
    "            sentiment_classifications.append('Negative')\n",
    "    return sentiment_classifications"
   ]
  },
  {
   "cell_type": "code",
   "execution_count": 93,
   "id": "b814cbbd",
   "metadata": {},
   "outputs": [],
   "source": [
    "classified_sentiment_ts = get_sentiment_score_classification(get_sentiment_score_dictionary(ts_tweets.cleaned_tweet))"
   ]
  },
  {
   "cell_type": "code",
   "execution_count": 94,
   "id": "28442d1a",
   "metadata": {},
   "outputs": [
    {
     "data": {
      "text/html": [
       "<div>\n",
       "<style scoped>\n",
       "    .dataframe tbody tr th:only-of-type {\n",
       "        vertical-align: middle;\n",
       "    }\n",
       "\n",
       "    .dataframe tbody tr th {\n",
       "        vertical-align: top;\n",
       "    }\n",
       "\n",
       "    .dataframe thead th {\n",
       "        text-align: right;\n",
       "    }\n",
       "</style>\n",
       "<table border=\"1\" class=\"dataframe\">\n",
       "  <thead>\n",
       "    <tr style=\"text-align: right;\">\n",
       "      <th></th>\n",
       "      <th>Datetime</th>\n",
       "      <th>retweet</th>\n",
       "      <th>likes</th>\n",
       "      <th>Text</th>\n",
       "      <th>Username</th>\n",
       "      <th>cleaned_tweet</th>\n",
       "      <th>Neutral</th>\n",
       "      <th>Positive</th>\n",
       "      <th>Negative</th>\n",
       "    </tr>\n",
       "  </thead>\n",
       "  <tbody>\n",
       "    <tr>\n",
       "      <th>0</th>\n",
       "      <td>2022-06-30 23:47:21+00:00</td>\n",
       "      <td>49</td>\n",
       "      <td>245</td>\n",
       "      <td>Most streamed artists on Global Spotify (June ...</td>\n",
       "      <td>WORLDMUSICAWARD</td>\n",
       "      <td>most streamed artists on global spotify (june ...</td>\n",
       "      <td>0.733290</td>\n",
       "      <td>0.256657</td>\n",
       "      <td>0.010054</td>\n",
       "    </tr>\n",
       "    <tr>\n",
       "      <th>1</th>\n",
       "      <td>2022-06-30 23:36:15+00:00</td>\n",
       "      <td>1065</td>\n",
       "      <td>12458</td>\n",
       "      <td>Taylor Swift is engaged to Joe Alwyn: report h...</td>\n",
       "      <td>nypost</td>\n",
       "      <td>taylor swift is engaged to joe alwyn: report</td>\n",
       "      <td>0.955908</td>\n",
       "      <td>0.024010</td>\n",
       "      <td>0.020082</td>\n",
       "    </tr>\n",
       "    <tr>\n",
       "      <th>2</th>\n",
       "      <td>2022-06-30 23:20:45+00:00</td>\n",
       "      <td>51</td>\n",
       "      <td>826</td>\n",
       "      <td>does it ever hit you that phoebe bridgers and ...</td>\n",
       "      <td>phoebesmoons</td>\n",
       "      <td>does it ever hit you that phoebe bridgers and ...</td>\n",
       "      <td>0.724014</td>\n",
       "      <td>0.260200</td>\n",
       "      <td>0.015786</td>\n",
       "    </tr>\n",
       "    <tr>\n",
       "      <th>3</th>\n",
       "      <td>2022-07-01 23:56:00+00:00</td>\n",
       "      <td>24</td>\n",
       "      <td>167</td>\n",
       "      <td>@taylorswift13 We will forever be streaming Ta...</td>\n",
       "      <td>TheSwiftSociety</td>\n",
       "      <td>@taylorswift13 we will forever be streaming ta...</td>\n",
       "      <td>0.145578</td>\n",
       "      <td>0.851489</td>\n",
       "      <td>0.002932</td>\n",
       "    </tr>\n",
       "    <tr>\n",
       "      <th>4</th>\n",
       "      <td>2022-07-01 23:51:09+00:00</td>\n",
       "      <td>51</td>\n",
       "      <td>404</td>\n",
       "      <td>#StrangerThings and taylor swift parallels htt...</td>\n",
       "      <td>W00DVALE</td>\n",
       "      <td>and taylor swift parallels</td>\n",
       "      <td>0.881341</td>\n",
       "      <td>0.101206</td>\n",
       "      <td>0.017453</td>\n",
       "    </tr>\n",
       "    <tr>\n",
       "      <th>...</th>\n",
       "      <td>...</td>\n",
       "      <td>...</td>\n",
       "      <td>...</td>\n",
       "      <td>...</td>\n",
       "      <td>...</td>\n",
       "      <td>...</td>\n",
       "      <td>...</td>\n",
       "      <td>...</td>\n",
       "      <td>...</td>\n",
       "    </tr>\n",
       "    <tr>\n",
       "      <th>181</th>\n",
       "      <td>2022-08-29 23:57:14+00:00</td>\n",
       "      <td>31</td>\n",
       "      <td>257</td>\n",
       "      <td>🚨| @taylorswift13’s #MidnighTS announcement ha...</td>\n",
       "      <td>TayliviaTeam</td>\n",
       "      <td>| @taylorswift13's announcement has crossed 1 ...</td>\n",
       "      <td>0.083631</td>\n",
       "      <td>0.914424</td>\n",
       "      <td>0.001945</td>\n",
       "    </tr>\n",
       "    <tr>\n",
       "      <th>182</th>\n",
       "      <td>2022-08-29 23:54:47+00:00</td>\n",
       "      <td>75</td>\n",
       "      <td>1506</td>\n",
       "      <td>@leosneedy @PopBase @taylorswift13 Yes, and it...</td>\n",
       "      <td>mainpopgirI</td>\n",
       "      <td>@leosneedy @popbase @taylorswift13 yes, and it...</td>\n",
       "      <td>0.798770</td>\n",
       "      <td>0.166449</td>\n",
       "      <td>0.034781</td>\n",
       "    </tr>\n",
       "    <tr>\n",
       "      <th>183</th>\n",
       "      <td>2022-08-30 23:59:17+00:00</td>\n",
       "      <td>26</td>\n",
       "      <td>328</td>\n",
       "      <td>i’ve never been able to afford tickets to see ...</td>\n",
       "      <td>ghostofeste</td>\n",
       "      <td>i've never been able to afford tickets to see ...</td>\n",
       "      <td>0.217211</td>\n",
       "      <td>0.749612</td>\n",
       "      <td>0.033177</td>\n",
       "    </tr>\n",
       "    <tr>\n",
       "      <th>184</th>\n",
       "      <td>2022-08-30 23:59:04+00:00</td>\n",
       "      <td>151</td>\n",
       "      <td>1789</td>\n",
       "      <td>dylan o’brien as taylor swifts “midnights” htt...</td>\n",
       "      <td>visionaryfxs</td>\n",
       "      <td>dylan o'brien as taylor swifts \"midnights\"</td>\n",
       "      <td>0.943628</td>\n",
       "      <td>0.047208</td>\n",
       "      <td>0.009165</td>\n",
       "    </tr>\n",
       "    <tr>\n",
       "      <th>185</th>\n",
       "      <td>2022-08-30 23:58:29+00:00</td>\n",
       "      <td>1146</td>\n",
       "      <td>8350</td>\n",
       "      <td>Most streamed female artists on Spotify on Mon...</td>\n",
       "      <td>spotify_data</td>\n",
       "      <td>most streamed female artists on spotify on mon...</td>\n",
       "      <td>0.646013</td>\n",
       "      <td>0.348383</td>\n",
       "      <td>0.005604</td>\n",
       "    </tr>\n",
       "  </tbody>\n",
       "</table>\n",
       "<p>186 rows × 9 columns</p>\n",
       "</div>"
      ],
      "text/plain": [
       "                     Datetime  retweet  likes  \\\n",
       "0   2022-06-30 23:47:21+00:00       49    245   \n",
       "1   2022-06-30 23:36:15+00:00     1065  12458   \n",
       "2   2022-06-30 23:20:45+00:00       51    826   \n",
       "3   2022-07-01 23:56:00+00:00       24    167   \n",
       "4   2022-07-01 23:51:09+00:00       51    404   \n",
       "..                        ...      ...    ...   \n",
       "181 2022-08-29 23:57:14+00:00       31    257   \n",
       "182 2022-08-29 23:54:47+00:00       75   1506   \n",
       "183 2022-08-30 23:59:17+00:00       26    328   \n",
       "184 2022-08-30 23:59:04+00:00      151   1789   \n",
       "185 2022-08-30 23:58:29+00:00     1146   8350   \n",
       "\n",
       "                                                  Text         Username  \\\n",
       "0    Most streamed artists on Global Spotify (June ...  WORLDMUSICAWARD   \n",
       "1    Taylor Swift is engaged to Joe Alwyn: report h...           nypost   \n",
       "2    does it ever hit you that phoebe bridgers and ...     phoebesmoons   \n",
       "3    @taylorswift13 We will forever be streaming Ta...  TheSwiftSociety   \n",
       "4    #StrangerThings and taylor swift parallels htt...         W00DVALE   \n",
       "..                                                 ...              ...   \n",
       "181  🚨| @taylorswift13’s #MidnighTS announcement ha...     TayliviaTeam   \n",
       "182  @leosneedy @PopBase @taylorswift13 Yes, and it...      mainpopgirI   \n",
       "183  i’ve never been able to afford tickets to see ...      ghostofeste   \n",
       "184  dylan o’brien as taylor swifts “midnights” htt...     visionaryfxs   \n",
       "185  Most streamed female artists on Spotify on Mon...     spotify_data   \n",
       "\n",
       "                                         cleaned_tweet   Neutral  Positive  \\\n",
       "0    most streamed artists on global spotify (june ...  0.733290  0.256657   \n",
       "1         taylor swift is engaged to joe alwyn: report  0.955908  0.024010   \n",
       "2    does it ever hit you that phoebe bridgers and ...  0.724014  0.260200   \n",
       "3    @taylorswift13 we will forever be streaming ta...  0.145578  0.851489   \n",
       "4                           and taylor swift parallels  0.881341  0.101206   \n",
       "..                                                 ...       ...       ...   \n",
       "181  | @taylorswift13's announcement has crossed 1 ...  0.083631  0.914424   \n",
       "182  @leosneedy @popbase @taylorswift13 yes, and it...  0.798770  0.166449   \n",
       "183  i've never been able to afford tickets to see ...  0.217211  0.749612   \n",
       "184         dylan o'brien as taylor swifts \"midnights\"  0.943628  0.047208   \n",
       "185  most streamed female artists on spotify on mon...  0.646013  0.348383   \n",
       "\n",
       "     Negative  \n",
       "0    0.010054  \n",
       "1    0.020082  \n",
       "2    0.015786  \n",
       "3    0.002932  \n",
       "4    0.017453  \n",
       "..        ...  \n",
       "181  0.001945  \n",
       "182  0.034781  \n",
       "183  0.033177  \n",
       "184  0.009165  \n",
       "185  0.005604  \n",
       "\n",
       "[186 rows x 9 columns]"
      ]
     },
     "execution_count": 94,
     "metadata": {},
     "output_type": "execute_result"
    }
   ],
   "source": [
    "pd.merge(ts_tweets, pd.DataFrame.from_dict(get_sentiment_score_dictionary(ts_tweets.cleaned_tweet)), left_index= True, right_index= True)"
   ]
  },
  {
   "cell_type": "code",
   "execution_count": 95,
   "id": "ad165e62",
   "metadata": {},
   "outputs": [],
   "source": [
    "ts_df = pd.merge(ts_tweets, pd.DataFrame.from_dict(classified_sentiment_ts), left_index= True, right_index= True)"
   ]
  },
  {
   "cell_type": "code",
   "execution_count": 96,
   "id": "e580323d",
   "metadata": {},
   "outputs": [],
   "source": [
    "ts_df.rename(columns = {0:'sentiment_classification'}, inplace = True)"
   ]
  },
  {
   "cell_type": "code",
   "execution_count": 97,
   "id": "0529f148",
   "metadata": {},
   "outputs": [
    {
     "data": {
      "text/plain": [
       "Neutral     114\n",
       "Positive     61\n",
       "Negative     11\n",
       "Name: sentiment_classification, dtype: int64"
      ]
     },
     "execution_count": 97,
     "metadata": {},
     "output_type": "execute_result"
    }
   ],
   "source": [
    "ts_df.sentiment_classification.value_counts()"
   ]
  },
  {
   "cell_type": "code",
   "execution_count": null,
   "id": "1139daf9",
   "metadata": {},
   "outputs": [],
   "source": []
  }
 ],
 "metadata": {
  "kernelspec": {
   "display_name": "Python 3 (ipykernel)",
   "language": "python",
   "name": "python3"
  },
  "language_info": {
   "codemirror_mode": {
    "name": "ipython",
    "version": 3
   },
   "file_extension": ".py",
   "mimetype": "text/x-python",
   "name": "python",
   "nbconvert_exporter": "python",
   "pygments_lexer": "ipython3",
   "version": "3.8.12"
  },
  "toc": {
   "base_numbering": 1,
   "nav_menu": {},
   "number_sections": true,
   "sideBar": true,
   "skip_h1_title": false,
   "title_cell": "Table of Contents",
   "title_sidebar": "Contents",
   "toc_cell": false,
   "toc_position": {},
   "toc_section_display": true,
   "toc_window_display": false
  }
 },
 "nbformat": 4,
 "nbformat_minor": 5
}
