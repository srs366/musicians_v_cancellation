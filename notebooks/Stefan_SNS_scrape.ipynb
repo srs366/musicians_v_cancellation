{
 "cells": [
  {
   "cell_type": "markdown",
   "id": "65fa41e5",
   "metadata": {},
   "source": [
    "# SNS SCRAPE"
   ]
  },
  {
   "cell_type": "markdown",
   "id": "e542163e",
   "metadata": {},
   "source": [
    "### Install SNS Scrape"
   ]
  },
  {
   "cell_type": "code",
   "execution_count": 215,
   "id": "0693d276",
   "metadata": {},
   "outputs": [
    {
     "name": "stdout",
     "output_type": "stream",
     "text": [
      "Requirement already satisfied: snscrape in /Users/stefantonto/.pyenv/versions/3.8.12/envs/cancelled/lib/python3.8/site-packages (0.4.3.20220106)\n",
      "Requirement already satisfied: requests[socks] in /Users/stefantonto/.pyenv/versions/3.8.12/envs/cancelled/lib/python3.8/site-packages (from snscrape) (2.28.1)\n",
      "Requirement already satisfied: filelock in /Users/stefantonto/.pyenv/versions/3.8.12/envs/cancelled/lib/python3.8/site-packages (from snscrape) (3.8.0)\n",
      "Requirement already satisfied: beautifulsoup4 in /Users/stefantonto/.pyenv/versions/3.8.12/envs/cancelled/lib/python3.8/site-packages (from snscrape) (4.11.1)\n",
      "Requirement already satisfied: pytz in /Users/stefantonto/.pyenv/versions/3.8.12/envs/cancelled/lib/python3.8/site-packages (from snscrape) (2022.2.1)\n",
      "Requirement already satisfied: lxml in /Users/stefantonto/.pyenv/versions/3.8.12/envs/cancelled/lib/python3.8/site-packages (from snscrape) (4.9.1)\n",
      "Requirement already satisfied: soupsieve>1.2 in /Users/stefantonto/.pyenv/versions/3.8.12/envs/cancelled/lib/python3.8/site-packages (from beautifulsoup4->snscrape) (2.3.2.post1)\n",
      "Requirement already satisfied: urllib3<1.27,>=1.21.1 in /Users/stefantonto/.pyenv/versions/3.8.12/envs/cancelled/lib/python3.8/site-packages (from requests[socks]->snscrape) (1.26.12)\n",
      "Requirement already satisfied: charset-normalizer<3,>=2 in /Users/stefantonto/.pyenv/versions/3.8.12/envs/cancelled/lib/python3.8/site-packages (from requests[socks]->snscrape) (2.1.1)\n",
      "Requirement already satisfied: certifi>=2017.4.17 in /Users/stefantonto/.pyenv/versions/3.8.12/envs/cancelled/lib/python3.8/site-packages (from requests[socks]->snscrape) (2022.6.15)\n",
      "Requirement already satisfied: idna<4,>=2.5 in /Users/stefantonto/.pyenv/versions/3.8.12/envs/cancelled/lib/python3.8/site-packages (from requests[socks]->snscrape) (3.3)\n",
      "Requirement already satisfied: PySocks!=1.5.7,>=1.5.6 in /Users/stefantonto/.pyenv/versions/3.8.12/envs/cancelled/lib/python3.8/site-packages (from requests[socks]->snscrape) (1.7.1)\n"
     ]
    }
   ],
   "source": [
    "!pip install snscrape"
   ]
  },
  {
   "cell_type": "markdown",
   "id": "7b8c0da2",
   "metadata": {},
   "source": [
    "### Setup SNS Scrape for our Tweets"
   ]
  },
  {
   "cell_type": "code",
   "execution_count": 216,
   "id": "9b341900",
   "metadata": {
    "scrolled": true
   },
   "outputs": [],
   "source": [
    "import snscrape.modules.twitter as sntwitter\n",
    "from datetime import datetime,timedelta\n",
    "from dateutil.relativedelta import relativedelta\n",
    "import pandas as pd\n",
    "\n",
    "\n",
    "def run_the_tweet(keywords,incident_date, n_months, level_fame, language):\n",
    "    date_format = '%Y-%m-%d'\n",
    "    dtObj = datetime.strptime(incident_date, date_format)\n",
    "    \n",
    "    if level_fame == 'Legendary':\n",
    "        min_retweets = 10\n",
    "    elif level_fame == 'Superstar':\n",
    "        min_retweets = 10\n",
    "    elif level_fame == 'Mainstream':\n",
    "        min_retweets = 2\n",
    "    else:\n",
    "        min_retweets = 0\n",
    "    \n",
    "    begin_date = (dtObj - relativedelta(months=n_months)).date()\n",
    "    since_date = (dtObj - relativedelta(months=n_months)).date()\n",
    "    \n",
    "    until_date = since_date + timedelta(days=1)\n",
    "    final_date = (dtObj + relativedelta(months=n_months)).date()\n",
    "    \n",
    "    n_days = (final_date-since_date).days\n",
    "    \n",
    "    query = \" OR \".join(keywords)\n",
    "    if len(keywords) == 1:\n",
    "        query = keywords[0]\n",
    "    tweets_list= []\n",
    "    for x in range(n_days): #no. of days\n",
    "        for i,tweet in enumerate(sntwitter.TwitterSearchScraper(f'{query} since:{since_date.strftime(date_format)} until:{until_date.strftime(date_format)}  min_retweets:{min_retweets} lang:{language}').get_items()):\n",
    "            if i > 50: #no. of output tweet\n",
    "                break\n",
    "            else:\n",
    "                tweets_list.append([tweet.date, tweet.retweetCount, tweet.likeCount, tweet.content, tweet.user.username]) #append if statement satisfy\n",
    "        if x < n_days : # no. of days you want to be return\n",
    "            since_date = since_date + timedelta(days=1) #add another day\n",
    "            until_date = until_date + timedelta(days=1) #add another day\n",
    "        else:\n",
    "            break\n",
    "    tweets_df = pd.DataFrame(tweets_list, columns=['Datetime',\"retweet\",\"likes\", 'Text', 'Username'])\n",
    "    return tweets_df"
   ]
  },
  {
   "cell_type": "markdown",
   "id": "0e5b8b39",
   "metadata": {},
   "source": [
    "### Clean Tweets"
   ]
  },
  {
   "cell_type": "code",
   "execution_count": 217,
   "id": "b1207508",
   "metadata": {},
   "outputs": [
    {
     "name": "stdout",
     "output_type": "stream",
     "text": [
      "Requirement already satisfied: nltk in /Users/stefantonto/.pyenv/versions/3.8.12/envs/cancelled/lib/python3.8/site-packages (3.7)\n",
      "Requirement already satisfied: regex>=2021.8.3 in /Users/stefantonto/.pyenv/versions/3.8.12/envs/cancelled/lib/python3.8/site-packages (from nltk) (2022.8.17)\n",
      "Requirement already satisfied: joblib in /Users/stefantonto/.pyenv/versions/3.8.12/envs/cancelled/lib/python3.8/site-packages (from nltk) (1.1.0)\n",
      "Requirement already satisfied: tqdm in /Users/stefantonto/.pyenv/versions/3.8.12/envs/cancelled/lib/python3.8/site-packages (from nltk) (4.64.1)\n",
      "Requirement already satisfied: click in /Users/stefantonto/.pyenv/versions/3.8.12/envs/cancelled/lib/python3.8/site-packages (from nltk) (8.1.3)\n"
     ]
    }
   ],
   "source": [
    "!pip install nltk"
   ]
  },
  {
   "cell_type": "code",
   "execution_count": 218,
   "id": "c42e04d8",
   "metadata": {},
   "outputs": [
    {
     "name": "stdout",
     "output_type": "stream",
     "text": [
      "Requirement already satisfied: emot in /Users/stefantonto/.pyenv/versions/3.8.12/envs/cancelled/lib/python3.8/site-packages (3.1)\r\n"
     ]
    }
   ],
   "source": [
    "!pip install emot"
   ]
  },
  {
   "cell_type": "code",
   "execution_count": 219,
   "id": "fe9f8f65",
   "metadata": {},
   "outputs": [
    {
     "name": "stdout",
     "output_type": "stream",
     "text": [
      "Requirement already satisfied: emoji in /Users/stefantonto/.pyenv/versions/3.8.12/envs/cancelled/lib/python3.8/site-packages (1.7.0)\r\n"
     ]
    }
   ],
   "source": [
    "!pip install emoji"
   ]
  },
  {
   "cell_type": "code",
   "execution_count": 220,
   "id": "f3b43129",
   "metadata": {},
   "outputs": [
    {
     "name": "stdout",
     "output_type": "stream",
     "text": [
      "Requirement already satisfied: clean-text in /Users/stefantonto/.pyenv/versions/3.8.12/envs/cancelled/lib/python3.8/site-packages (0.6.0)\n",
      "Requirement already satisfied: emoji<2.0.0,>=1.0.0 in /Users/stefantonto/.pyenv/versions/3.8.12/envs/cancelled/lib/python3.8/site-packages (from clean-text) (1.7.0)\n",
      "Requirement already satisfied: ftfy<7.0,>=6.0 in /Users/stefantonto/.pyenv/versions/3.8.12/envs/cancelled/lib/python3.8/site-packages (from clean-text) (6.1.1)\n",
      "Requirement already satisfied: wcwidth>=0.2.5 in /Users/stefantonto/.pyenv/versions/3.8.12/envs/cancelled/lib/python3.8/site-packages (from ftfy<7.0,>=6.0->clean-text) (0.2.5)\n",
      "Note: you may need to restart the kernel to use updated packages.\n"
     ]
    }
   ],
   "source": [
    "pip install clean-text"
   ]
  },
  {
   "cell_type": "code",
   "execution_count": 221,
   "id": "2ba8894c",
   "metadata": {
    "scrolled": true
   },
   "outputs": [
    {
     "name": "stderr",
     "output_type": "stream",
     "text": [
      "[nltk_data] Downloading package wordnet to\n",
      "[nltk_data]     /Users/stefantonto/nltk_data...\n",
      "[nltk_data]   Package wordnet is already up-to-date!\n",
      "[nltk_data] Downloading package omw-1.4 to\n",
      "[nltk_data]     /Users/stefantonto/nltk_data...\n",
      "[nltk_data]   Package omw-1.4 is already up-to-date!\n",
      "Since the GPL-licensed package `unidecode` is not installed, using Python's `unicodedata` package which yields worse results.\n"
     ]
    }
   ],
   "source": [
    "import re\n",
    "import string\n",
    "import nltk\n",
    "nltk.download('wordnet')\n",
    "nltk.download('omw-1.4')\n",
    "from nltk.corpus import stopwords\n",
    "from nltk.stem import WordNetLemmatizer\n",
    "from nltk.tokenize import word_tokenize\n",
    "from nltk.stem import PorterStemmer\n",
    "from nltk.tokenize import sent_tokenize, word_tokenize\n",
    "import emoji\n",
    "from cleantext import clean\n",
    "\n",
    "\n",
    "import string\n",
    "import re\n",
    "\n",
    "from emot.emo_unicode import UNICODE_EMOJI\n",
    "\n",
    "def clean_text(text):\n",
    "    #changing to lowercase\n",
    "    text = text.lower()\n",
    "    \n",
    "    # removing #´s \n",
    "    text = re.sub(r'#[A-Za-z0-9]+', '', text)\n",
    "    text = re.sub(r'#', '', text)\n",
    "    \n",
    "    #remove RT\n",
    "    text = re.sub(r'RT[\\s]+', '', text)\n",
    "    \n",
    "    #remove links\n",
    "    text = re.sub(r'https?:\\/\\/\\S+', '', text)\n",
    "    text = re.sub(r\"www.\\S+\", \"\", text)\n",
    "    \n",
    "    #remove indentation\n",
    "    text = re.sub(r'\\n', '', text)\n",
    "\n",
    "    #remove emojis\n",
    "    text = clean(text, no_emoji=True)\n",
    "    \n",
    "    \n",
    "    #tokenizing words\n",
    "    tokens = word_tokenize(text)\n",
    "    \n",
    "    filtered_words = [w for w in tokens if w not in list(UNICODE_EMOJI.keys())]\n",
    "    \n",
    "    return text"
   ]
  },
  {
   "cell_type": "markdown",
   "id": "5ee59251",
   "metadata": {},
   "source": [
    "***\n",
    "# SENTIMENT ANALYSIS"
   ]
  },
  {
   "cell_type": "markdown",
   "id": "332f7268",
   "metadata": {},
   "source": [
    "## INSTALL ROBERTA"
   ]
  },
  {
   "cell_type": "code",
   "execution_count": 222,
   "id": "1a325c05",
   "metadata": {},
   "outputs": [
    {
     "name": "stdout",
     "output_type": "stream",
     "text": [
      "Requirement already satisfied: transformers in /Users/stefantonto/.pyenv/versions/3.8.12/envs/cancelled/lib/python3.8/site-packages (4.21.3)\n",
      "Requirement already satisfied: requests in /Users/stefantonto/.pyenv/versions/3.8.12/envs/cancelled/lib/python3.8/site-packages (from transformers) (2.28.1)\n",
      "Requirement already satisfied: filelock in /Users/stefantonto/.pyenv/versions/3.8.12/envs/cancelled/lib/python3.8/site-packages (from transformers) (3.8.0)\n",
      "Requirement already satisfied: tqdm>=4.27 in /Users/stefantonto/.pyenv/versions/3.8.12/envs/cancelled/lib/python3.8/site-packages (from transformers) (4.64.1)\n",
      "Requirement already satisfied: regex!=2019.12.17 in /Users/stefantonto/.pyenv/versions/3.8.12/envs/cancelled/lib/python3.8/site-packages (from transformers) (2022.8.17)\n",
      "Requirement already satisfied: packaging>=20.0 in /Users/stefantonto/.pyenv/versions/3.8.12/envs/cancelled/lib/python3.8/site-packages (from transformers) (21.3)\n",
      "Requirement already satisfied: huggingface-hub<1.0,>=0.1.0 in /Users/stefantonto/.pyenv/versions/3.8.12/envs/cancelled/lib/python3.8/site-packages (from transformers) (0.9.1)\n",
      "Requirement already satisfied: tokenizers!=0.11.3,<0.13,>=0.11.1 in /Users/stefantonto/.pyenv/versions/3.8.12/envs/cancelled/lib/python3.8/site-packages (from transformers) (0.12.1)\n",
      "Requirement already satisfied: numpy>=1.17 in /Users/stefantonto/.pyenv/versions/3.8.12/envs/cancelled/lib/python3.8/site-packages (from transformers) (1.23.2)\n",
      "Requirement already satisfied: pyyaml>=5.1 in /Users/stefantonto/.pyenv/versions/3.8.12/envs/cancelled/lib/python3.8/site-packages (from transformers) (6.0)\n",
      "Requirement already satisfied: typing-extensions>=3.7.4.3 in /Users/stefantonto/.pyenv/versions/3.8.12/envs/cancelled/lib/python3.8/site-packages (from huggingface-hub<1.0,>=0.1.0->transformers) (4.3.0)\n",
      "Requirement already satisfied: pyparsing!=3.0.5,>=2.0.2 in /Users/stefantonto/.pyenv/versions/3.8.12/envs/cancelled/lib/python3.8/site-packages (from packaging>=20.0->transformers) (3.0.9)\n",
      "Requirement already satisfied: certifi>=2017.4.17 in /Users/stefantonto/.pyenv/versions/3.8.12/envs/cancelled/lib/python3.8/site-packages (from requests->transformers) (2022.6.15)\n",
      "Requirement already satisfied: urllib3<1.27,>=1.21.1 in /Users/stefantonto/.pyenv/versions/3.8.12/envs/cancelled/lib/python3.8/site-packages (from requests->transformers) (1.26.12)\n",
      "Requirement already satisfied: idna<4,>=2.5 in /Users/stefantonto/.pyenv/versions/3.8.12/envs/cancelled/lib/python3.8/site-packages (from requests->transformers) (3.3)\n",
      "Requirement already satisfied: charset-normalizer<3,>=2 in /Users/stefantonto/.pyenv/versions/3.8.12/envs/cancelled/lib/python3.8/site-packages (from requests->transformers) (2.1.1)\n"
     ]
    }
   ],
   "source": [
    "!pip install transformers"
   ]
  },
  {
   "cell_type": "code",
   "execution_count": 223,
   "id": "b3060e55",
   "metadata": {},
   "outputs": [
    {
     "name": "stdout",
     "output_type": "stream",
     "text": [
      "Requirement already satisfied: torch in /Users/stefantonto/.pyenv/versions/3.8.12/envs/cancelled/lib/python3.8/site-packages (1.12.1)\n",
      "Requirement already satisfied: typing-extensions in /Users/stefantonto/.pyenv/versions/3.8.12/envs/cancelled/lib/python3.8/site-packages (from torch) (4.3.0)\n"
     ]
    }
   ],
   "source": [
    "!pip install torch"
   ]
  },
  {
   "cell_type": "code",
   "execution_count": 224,
   "id": "86c47fc8",
   "metadata": {
    "scrolled": false
   },
   "outputs": [
    {
     "name": "stderr",
     "output_type": "stream",
     "text": [
      "/Users/stefantonto/.pyenv/versions/3.8.12/envs/cancelled/lib/python3.8/site-packages/tqdm/auto.py:22: TqdmWarning: IProgress not found. Please update jupyter and ipywidgets. See https://ipywidgets.readthedocs.io/en/stable/user_install.html\n",
      "  from .autonotebook import tqdm as notebook_tqdm\n",
      "Some weights of the model checkpoint at cardiffnlp/twitter-roberta-base-sentiment-latest were not used when initializing RobertaForSequenceClassification: ['roberta.pooler.dense.bias', 'roberta.pooler.dense.weight']\n",
      "- This IS expected if you are initializing RobertaForSequenceClassification from the checkpoint of a model trained on another task or with another architecture (e.g. initializing a BertForSequenceClassification model from a BertForPreTraining model).\n",
      "- This IS NOT expected if you are initializing RobertaForSequenceClassification from the checkpoint of a model that you expect to be exactly identical (initializing a BertForSequenceClassification model from a BertForSequenceClassification model).\n"
     ]
    }
   ],
   "source": [
    "from transformers import AutoTokenizer, AutoModelForSequenceClassification\n",
    "\n",
    "tokenizer = AutoTokenizer.from_pretrained(\"cardiffnlp/twitter-roberta-base-sentiment-latest\")\n",
    "\n",
    "model = AutoModelForSequenceClassification.from_pretrained(\"cardiffnlp/twitter-roberta-base-sentiment-latest\")"
   ]
  },
  {
   "cell_type": "code",
   "execution_count": 229,
   "id": "8fd47136",
   "metadata": {},
   "outputs": [],
   "source": [
    "from transformers import pipeline\n",
    "\n",
    "sentiment_task = pipeline(\"sentiment-analysis\", model= model, tokenizer= tokenizer, top_k=3)"
   ]
  },
  {
   "cell_type": "code",
   "execution_count": 230,
   "id": "287b4071",
   "metadata": {},
   "outputs": [],
   "source": [
    "chris_brown_tweets = run_the_tweet([\"chris brown\"], \"2022-08-07\" ,1, \"10\", \"en\")"
   ]
  },
  {
   "cell_type": "code",
   "execution_count": 35,
   "id": "a3b17ec1",
   "metadata": {},
   "outputs": [],
   "source": [
    "chris_brown_tweets['cleaned_tweet'] = chris_brown_tweets.Text.apply(clean_text)"
   ]
  },
  {
   "cell_type": "code",
   "execution_count": 36,
   "id": "16169814",
   "metadata": {},
   "outputs": [
    {
     "data": {
      "text/html": [
       "<div>\n",
       "<style scoped>\n",
       "    .dataframe tbody tr th:only-of-type {\n",
       "        vertical-align: middle;\n",
       "    }\n",
       "\n",
       "    .dataframe tbody tr th {\n",
       "        vertical-align: top;\n",
       "    }\n",
       "\n",
       "    .dataframe thead th {\n",
       "        text-align: right;\n",
       "    }\n",
       "</style>\n",
       "<table border=\"1\" class=\"dataframe\">\n",
       "  <thead>\n",
       "    <tr style=\"text-align: right;\">\n",
       "      <th></th>\n",
       "      <th>Datetime</th>\n",
       "      <th>retweet</th>\n",
       "      <th>likes</th>\n",
       "      <th>Text</th>\n",
       "      <th>Username</th>\n",
       "      <th>cleaned_tweet</th>\n",
       "    </tr>\n",
       "  </thead>\n",
       "  <tbody>\n",
       "    <tr>\n",
       "      <th>0</th>\n",
       "      <td>2022-07-07 23:59:21+00:00</td>\n",
       "      <td>40</td>\n",
       "      <td>159</td>\n",
       "      <td>Davido owe Shakespeare nothing, absolutely NOT...</td>\n",
       "      <td>30BG_CEO</td>\n",
       "      <td>davido owe shakespeare nothing, absolutely not...</td>\n",
       "    </tr>\n",
       "    <tr>\n",
       "      <th>1</th>\n",
       "      <td>2022-07-07 23:58:01+00:00</td>\n",
       "      <td>159</td>\n",
       "      <td>771</td>\n",
       "      <td>Davido and Chris brown is like Boli and ground...</td>\n",
       "      <td>Tobiloba_mide</td>\n",
       "      <td>davido and chris brown is like boli and ground...</td>\n",
       "    </tr>\n",
       "    <tr>\n",
       "      <th>2</th>\n",
       "      <td>2022-07-07 23:57:17+00:00</td>\n",
       "      <td>182</td>\n",
       "      <td>1045</td>\n",
       "      <td>Davido and Chris brown no Dey miss🔥🚨</td>\n",
       "      <td>malcom_xo</td>\n",
       "      <td>davido and chris brown no dey miss</td>\n",
       "    </tr>\n",
       "    <tr>\n",
       "      <th>3</th>\n",
       "      <td>2022-07-08 23:41:28+00:00</td>\n",
       "      <td>57</td>\n",
       "      <td>413</td>\n",
       "      <td>Davido, Chris Brown &amp;amp; Nobody Has To Know i...</td>\n",
       "      <td>lifeofolaa</td>\n",
       "      <td>davido, chris brown &amp; nobody has to know is tr...</td>\n",
       "    </tr>\n",
       "    <tr>\n",
       "      <th>4</th>\n",
       "      <td>2022-07-08 23:38:02+00:00</td>\n",
       "      <td>97</td>\n",
       "      <td>776</td>\n",
       "      <td>Chris brown ft Davido Nobody has to know is 🙌🏻...</td>\n",
       "      <td>Amara_Layo</td>\n",
       "      <td>chris brown ft davido nobody has to know is ev...</td>\n",
       "    </tr>\n",
       "    <tr>\n",
       "      <th>...</th>\n",
       "      <td>...</td>\n",
       "      <td>...</td>\n",
       "      <td>...</td>\n",
       "      <td>...</td>\n",
       "      <td>...</td>\n",
       "      <td>...</td>\n",
       "    </tr>\n",
       "    <tr>\n",
       "      <th>181</th>\n",
       "      <td>2022-09-05 21:24:41+00:00</td>\n",
       "      <td>29</td>\n",
       "      <td>38</td>\n",
       "      <td>Jay bahd be weed smoker, Philan be mmaa p3 kil...</td>\n",
       "      <td>kwesi_zitojnr</td>\n",
       "      <td>jay bahd be weed smoker, philan be mmaa p3 kil...</td>\n",
       "    </tr>\n",
       "    <tr>\n",
       "      <th>182</th>\n",
       "      <td>2022-09-05 20:51:42+00:00</td>\n",
       "      <td>16</td>\n",
       "      <td>95</td>\n",
       "      <td>|🚨\\nExtra Spotify Update — Streams\\n\\n•Time N ...</td>\n",
       "      <td>RemaStats</td>\n",
       "      <td>|extra spotify update streamstime n affection ...</td>\n",
       "    </tr>\n",
       "    <tr>\n",
       "      <th>183</th>\n",
       "      <td>2022-09-06 22:23:42+00:00</td>\n",
       "      <td>26</td>\n",
       "      <td>104</td>\n",
       "      <td>I don't know if I am the only one but I feel “...</td>\n",
       "      <td>RabsonLee</td>\n",
       "      <td>i don't know if i am the only one but i feel \"...</td>\n",
       "    </tr>\n",
       "    <tr>\n",
       "      <th>184</th>\n",
       "      <td>2022-09-06 21:50:24+00:00</td>\n",
       "      <td>38</td>\n",
       "      <td>188</td>\n",
       "      <td>The Goat @davido and his fellow American Goat ...</td>\n",
       "      <td>30BG_CEO</td>\n",
       "      <td>the goat @davido and his fellow american goat ...</td>\n",
       "    </tr>\n",
       "    <tr>\n",
       "      <th>185</th>\n",
       "      <td>2022-09-06 21:27:13+00:00</td>\n",
       "      <td>31</td>\n",
       "      <td>147</td>\n",
       "      <td>.@chrisbrown has officially released ‘Under Th...</td>\n",
       "      <td>Tiomoney1308</td>\n",
       "      <td>.@chrisbrown has officially released 'under th...</td>\n",
       "    </tr>\n",
       "  </tbody>\n",
       "</table>\n",
       "<p>186 rows × 6 columns</p>\n",
       "</div>"
      ],
      "text/plain": [
       "                     Datetime  retweet  likes  \\\n",
       "0   2022-07-07 23:59:21+00:00       40    159   \n",
       "1   2022-07-07 23:58:01+00:00      159    771   \n",
       "2   2022-07-07 23:57:17+00:00      182   1045   \n",
       "3   2022-07-08 23:41:28+00:00       57    413   \n",
       "4   2022-07-08 23:38:02+00:00       97    776   \n",
       "..                        ...      ...    ...   \n",
       "181 2022-09-05 21:24:41+00:00       29     38   \n",
       "182 2022-09-05 20:51:42+00:00       16     95   \n",
       "183 2022-09-06 22:23:42+00:00       26    104   \n",
       "184 2022-09-06 21:50:24+00:00       38    188   \n",
       "185 2022-09-06 21:27:13+00:00       31    147   \n",
       "\n",
       "                                                  Text       Username  \\\n",
       "0    Davido owe Shakespeare nothing, absolutely NOT...       30BG_CEO   \n",
       "1    Davido and Chris brown is like Boli and ground...  Tobiloba_mide   \n",
       "2                 Davido and Chris brown no Dey miss🔥🚨      malcom_xo   \n",
       "3    Davido, Chris Brown &amp; Nobody Has To Know i...     lifeofolaa   \n",
       "4    Chris brown ft Davido Nobody has to know is 🙌🏻...     Amara_Layo   \n",
       "..                                                 ...            ...   \n",
       "181  Jay bahd be weed smoker, Philan be mmaa p3 kil...  kwesi_zitojnr   \n",
       "182  |🚨\\nExtra Spotify Update — Streams\\n\\n•Time N ...      RemaStats   \n",
       "183  I don't know if I am the only one but I feel “...      RabsonLee   \n",
       "184  The Goat @davido and his fellow American Goat ...       30BG_CEO   \n",
       "185  .@chrisbrown has officially released ‘Under Th...   Tiomoney1308   \n",
       "\n",
       "                                         cleaned_tweet  \n",
       "0    davido owe shakespeare nothing, absolutely not...  \n",
       "1    davido and chris brown is like boli and ground...  \n",
       "2                   davido and chris brown no dey miss  \n",
       "3    davido, chris brown & nobody has to know is tr...  \n",
       "4    chris brown ft davido nobody has to know is ev...  \n",
       "..                                                 ...  \n",
       "181  jay bahd be weed smoker, philan be mmaa p3 kil...  \n",
       "182  |extra spotify update streamstime n affection ...  \n",
       "183  i don't know if i am the only one but i feel \"...  \n",
       "184  the goat @davido and his fellow american goat ...  \n",
       "185  .@chrisbrown has officially released 'under th...  \n",
       "\n",
       "[186 rows x 6 columns]"
      ]
     },
     "execution_count": 36,
     "metadata": {},
     "output_type": "execute_result"
    }
   ],
   "source": [
    "chris_brown_tweets"
   ]
  },
  {
   "cell_type": "code",
   "execution_count": 100,
   "id": "287451e2",
   "metadata": {},
   "outputs": [],
   "source": [
    "ts_tweets = run_the_tweet([\"Taylor Swift\"], \"2022-07-31\" ,1, \"10\", \"en\")"
   ]
  },
  {
   "cell_type": "code",
   "execution_count": 101,
   "id": "f34b5599",
   "metadata": {},
   "outputs": [
    {
     "data": {
      "text/html": [
       "<div>\n",
       "<style scoped>\n",
       "    .dataframe tbody tr th:only-of-type {\n",
       "        vertical-align: middle;\n",
       "    }\n",
       "\n",
       "    .dataframe tbody tr th {\n",
       "        vertical-align: top;\n",
       "    }\n",
       "\n",
       "    .dataframe thead th {\n",
       "        text-align: right;\n",
       "    }\n",
       "</style>\n",
       "<table border=\"1\" class=\"dataframe\">\n",
       "  <thead>\n",
       "    <tr style=\"text-align: right;\">\n",
       "      <th></th>\n",
       "      <th>Datetime</th>\n",
       "      <th>retweet</th>\n",
       "      <th>likes</th>\n",
       "      <th>Text</th>\n",
       "      <th>Username</th>\n",
       "    </tr>\n",
       "  </thead>\n",
       "  <tbody>\n",
       "    <tr>\n",
       "      <th>0</th>\n",
       "      <td>2022-06-30 23:47:21+00:00</td>\n",
       "      <td>49</td>\n",
       "      <td>246</td>\n",
       "      <td>Most streamed artists on Global Spotify (June ...</td>\n",
       "      <td>WORLDMUSICAWARD</td>\n",
       "    </tr>\n",
       "    <tr>\n",
       "      <th>1</th>\n",
       "      <td>2022-06-30 23:36:15+00:00</td>\n",
       "      <td>1065</td>\n",
       "      <td>12458</td>\n",
       "      <td>Taylor Swift is engaged to Joe Alwyn: report h...</td>\n",
       "      <td>nypost</td>\n",
       "    </tr>\n",
       "    <tr>\n",
       "      <th>2</th>\n",
       "      <td>2022-06-30 23:20:45+00:00</td>\n",
       "      <td>51</td>\n",
       "      <td>826</td>\n",
       "      <td>does it ever hit you that phoebe bridgers and ...</td>\n",
       "      <td>phoebesmoons</td>\n",
       "    </tr>\n",
       "    <tr>\n",
       "      <th>3</th>\n",
       "      <td>2022-06-30 22:58:03+00:00</td>\n",
       "      <td>1133</td>\n",
       "      <td>8686</td>\n",
       "      <td>me?????? obsessed?????? with????? Carolina by ...</td>\n",
       "      <td>klbegley15</td>\n",
       "    </tr>\n",
       "    <tr>\n",
       "      <th>4</th>\n",
       "      <td>2022-06-30 22:53:20+00:00</td>\n",
       "      <td>11</td>\n",
       "      <td>180</td>\n",
       "      <td>I miss watching updates about american weather...</td>\n",
       "      <td>icantunseeit</td>\n",
       "    </tr>\n",
       "    <tr>\n",
       "      <th>...</th>\n",
       "      <td>...</td>\n",
       "      <td>...</td>\n",
       "      <td>...</td>\n",
       "      <td>...</td>\n",
       "      <td>...</td>\n",
       "    </tr>\n",
       "    <tr>\n",
       "      <th>3157</th>\n",
       "      <td>2022-08-30 20:56:09+00:00</td>\n",
       "      <td>11</td>\n",
       "      <td>151</td>\n",
       "      <td>📸 | @SabrinaAnnLynn, @taylorswift13, and Rosé ...</td>\n",
       "      <td>sabrinaupdatehq</td>\n",
       "    </tr>\n",
       "    <tr>\n",
       "      <th>3158</th>\n",
       "      <td>2022-08-30 20:54:36+00:00</td>\n",
       "      <td>29</td>\n",
       "      <td>210</td>\n",
       "      <td>I'd rather listen to \"All Summer Long\" by Kid ...</td>\n",
       "      <td>NickAdamsinUSA</td>\n",
       "    </tr>\n",
       "    <tr>\n",
       "      <th>3159</th>\n",
       "      <td>2022-08-30 20:53:15+00:00</td>\n",
       "      <td>16</td>\n",
       "      <td>87</td>\n",
       "      <td>Swifties who openly use their account to mock ...</td>\n",
       "      <td>oneswiftlover</td>\n",
       "    </tr>\n",
       "    <tr>\n",
       "      <th>3160</th>\n",
       "      <td>2022-08-30 20:51:16+00:00</td>\n",
       "      <td>145</td>\n",
       "      <td>2161</td>\n",
       "      <td>‼️UPDATE: @taylorswift13's profile picture has...</td>\n",
       "      <td>TheSwiftSociety</td>\n",
       "    </tr>\n",
       "    <tr>\n",
       "      <th>3161</th>\n",
       "      <td>2022-08-30 20:43:10+00:00</td>\n",
       "      <td>31</td>\n",
       "      <td>1363</td>\n",
       "      <td>@NickAdamsinUSA Why?  What is wrong with Taylo...</td>\n",
       "      <td>BabeTruth2</td>\n",
       "    </tr>\n",
       "  </tbody>\n",
       "</table>\n",
       "<p>3162 rows × 5 columns</p>\n",
       "</div>"
      ],
      "text/plain": [
       "                      Datetime  retweet  likes  \\\n",
       "0    2022-06-30 23:47:21+00:00       49    246   \n",
       "1    2022-06-30 23:36:15+00:00     1065  12458   \n",
       "2    2022-06-30 23:20:45+00:00       51    826   \n",
       "3    2022-06-30 22:58:03+00:00     1133   8686   \n",
       "4    2022-06-30 22:53:20+00:00       11    180   \n",
       "...                        ...      ...    ...   \n",
       "3157 2022-08-30 20:56:09+00:00       11    151   \n",
       "3158 2022-08-30 20:54:36+00:00       29    210   \n",
       "3159 2022-08-30 20:53:15+00:00       16     87   \n",
       "3160 2022-08-30 20:51:16+00:00      145   2161   \n",
       "3161 2022-08-30 20:43:10+00:00       31   1363   \n",
       "\n",
       "                                                   Text         Username  \n",
       "0     Most streamed artists on Global Spotify (June ...  WORLDMUSICAWARD  \n",
       "1     Taylor Swift is engaged to Joe Alwyn: report h...           nypost  \n",
       "2     does it ever hit you that phoebe bridgers and ...     phoebesmoons  \n",
       "3     me?????? obsessed?????? with????? Carolina by ...       klbegley15  \n",
       "4     I miss watching updates about american weather...     icantunseeit  \n",
       "...                                                 ...              ...  \n",
       "3157  📸 | @SabrinaAnnLynn, @taylorswift13, and Rosé ...  sabrinaupdatehq  \n",
       "3158  I'd rather listen to \"All Summer Long\" by Kid ...   NickAdamsinUSA  \n",
       "3159  Swifties who openly use their account to mock ...    oneswiftlover  \n",
       "3160  ‼️UPDATE: @taylorswift13's profile picture has...  TheSwiftSociety  \n",
       "3161  @NickAdamsinUSA Why?  What is wrong with Taylo...       BabeTruth2  \n",
       "\n",
       "[3162 rows x 5 columns]"
      ]
     },
     "execution_count": 101,
     "metadata": {},
     "output_type": "execute_result"
    }
   ],
   "source": [
    "ts_tweets"
   ]
  },
  {
   "cell_type": "code",
   "execution_count": 102,
   "id": "51adb981",
   "metadata": {},
   "outputs": [],
   "source": [
    "ts_tweets['cleaned_tweet'] = ts_tweets.Text.apply(clean_text)"
   ]
  },
  {
   "cell_type": "markdown",
   "id": "b113a5d8",
   "metadata": {},
   "source": [
    "## SENTIMENT CLASSIFICATION"
   ]
  },
  {
   "cell_type": "code",
   "execution_count": 243,
   "id": "06d67fed",
   "metadata": {},
   "outputs": [],
   "source": [
    "def get_sentiment_score_dictionary(df_cleanedtext):\n",
    "    list_sentiments = []\n",
    "    for tweet in df_cleanedtext.cleaned_tweet:\n",
    "        sentiment_task_result = sentiment_task(tweet)[0]\n",
    "        tweet_sentiment = {}\n",
    "        for label in sentiment_task_result:\n",
    "            if label['label'] == 'Neutral':\n",
    "                tweet_sentiment['Neutral'] = label['score']\n",
    "            elif label['label'] == 'Positive':\n",
    "                tweet_sentiment['Positive'] = label['score']\n",
    "            else:\n",
    "                tweet_sentiment['Negative'] = label['score']\n",
    "        list_sentiments.append(tweet_sentiment)\n",
    "    return list_sentiments\n",
    "\n",
    "def get_sentiment_score_classification(list_sentiments):\n",
    "    sentiment_classifications = []\n",
    "    for list_sentiment in list_sentiments:\n",
    "        if (list_sentiment['Positive'] > list_sentiment['Negative']) and (list_sentiment['Positive'] > (list_sentiment['Neutral'] + list_sentiment['Negative'])):\n",
    "            sentiment_classifications.append('Extremely Positive')\n",
    "        elif (list_sentiment['Positive'] > list_sentiment['Negative']) and (list_sentiment['Positive'] < (list_sentiment['Neutral'] + list_sentiment['Negative'])):\n",
    "            sentiment_classifications.append('Positive')\n",
    "        elif (list_sentiment['Negative'] > list_sentiment['Positive']) and (list_sentiment['Negative'] > (list_sentiment['Neutral'] + list_sentiment['Positive'])):\n",
    "            sentiment_classifications.append('Extremely Negative')\n",
    "        elif (list_sentiment['Negative'] > list_sentiment['Positive']) and (list_sentiment['Negative'] < (list_sentiment['Neutral'] + list_sentiment['Negative'])):\n",
    "            sentiment_classifications.append('Negative')\n",
    "        else:\n",
    "            sentiment_classifications.append('Neutral')\n",
    "    return sentiment_classifications"
   ]
  },
  {
   "cell_type": "markdown",
   "id": "98afa236",
   "metadata": {},
   "source": [
    "### SENTIMENT CLASSIFICATION WITH TAYLOR SWIFT"
   ]
  },
  {
   "cell_type": "code",
   "execution_count": 104,
   "id": "53590050",
   "metadata": {},
   "outputs": [],
   "source": [
    "classified_sentiment_ts = get_sentiment_score_classification(get_sentiment_score_dictionary(ts_tweets.cleaned_tweet))"
   ]
  },
  {
   "cell_type": "code",
   "execution_count": 105,
   "id": "d077ce39",
   "metadata": {},
   "outputs": [
    {
     "data": {
      "text/html": [
       "<div>\n",
       "<style scoped>\n",
       "    .dataframe tbody tr th:only-of-type {\n",
       "        vertical-align: middle;\n",
       "    }\n",
       "\n",
       "    .dataframe tbody tr th {\n",
       "        vertical-align: top;\n",
       "    }\n",
       "\n",
       "    .dataframe thead th {\n",
       "        text-align: right;\n",
       "    }\n",
       "</style>\n",
       "<table border=\"1\" class=\"dataframe\">\n",
       "  <thead>\n",
       "    <tr style=\"text-align: right;\">\n",
       "      <th></th>\n",
       "      <th>Datetime</th>\n",
       "      <th>retweet</th>\n",
       "      <th>likes</th>\n",
       "      <th>Text</th>\n",
       "      <th>Username</th>\n",
       "      <th>cleaned_tweet</th>\n",
       "      <th>Neutral</th>\n",
       "      <th>Positive</th>\n",
       "      <th>Negative</th>\n",
       "    </tr>\n",
       "  </thead>\n",
       "  <tbody>\n",
       "    <tr>\n",
       "      <th>0</th>\n",
       "      <td>2022-06-30 23:47:21+00:00</td>\n",
       "      <td>49</td>\n",
       "      <td>246</td>\n",
       "      <td>Most streamed artists on Global Spotify (June ...</td>\n",
       "      <td>WORLDMUSICAWARD</td>\n",
       "      <td>most streamed artists on global spotify (june ...</td>\n",
       "      <td>0.733290</td>\n",
       "      <td>0.256657</td>\n",
       "      <td>0.010054</td>\n",
       "    </tr>\n",
       "    <tr>\n",
       "      <th>1</th>\n",
       "      <td>2022-06-30 23:36:15+00:00</td>\n",
       "      <td>1065</td>\n",
       "      <td>12458</td>\n",
       "      <td>Taylor Swift is engaged to Joe Alwyn: report h...</td>\n",
       "      <td>nypost</td>\n",
       "      <td>taylor swift is engaged to joe alwyn: report</td>\n",
       "      <td>0.955908</td>\n",
       "      <td>0.024010</td>\n",
       "      <td>0.020082</td>\n",
       "    </tr>\n",
       "    <tr>\n",
       "      <th>2</th>\n",
       "      <td>2022-06-30 23:20:45+00:00</td>\n",
       "      <td>51</td>\n",
       "      <td>826</td>\n",
       "      <td>does it ever hit you that phoebe bridgers and ...</td>\n",
       "      <td>phoebesmoons</td>\n",
       "      <td>does it ever hit you that phoebe bridgers and ...</td>\n",
       "      <td>0.724014</td>\n",
       "      <td>0.260200</td>\n",
       "      <td>0.015786</td>\n",
       "    </tr>\n",
       "    <tr>\n",
       "      <th>3</th>\n",
       "      <td>2022-06-30 22:58:03+00:00</td>\n",
       "      <td>1133</td>\n",
       "      <td>8686</td>\n",
       "      <td>me?????? obsessed?????? with????? Carolina by ...</td>\n",
       "      <td>klbegley15</td>\n",
       "      <td>me?????? obsessed?????? with????? carolina by ...</td>\n",
       "      <td>0.040586</td>\n",
       "      <td>0.956709</td>\n",
       "      <td>0.002705</td>\n",
       "    </tr>\n",
       "    <tr>\n",
       "      <th>4</th>\n",
       "      <td>2022-06-30 22:53:20+00:00</td>\n",
       "      <td>11</td>\n",
       "      <td>180</td>\n",
       "      <td>I miss watching updates about american weather...</td>\n",
       "      <td>icantunseeit</td>\n",
       "      <td>i miss watching updates about american weather...</td>\n",
       "      <td>0.670205</td>\n",
       "      <td>0.159175</td>\n",
       "      <td>0.170620</td>\n",
       "    </tr>\n",
       "    <tr>\n",
       "      <th>...</th>\n",
       "      <td>...</td>\n",
       "      <td>...</td>\n",
       "      <td>...</td>\n",
       "      <td>...</td>\n",
       "      <td>...</td>\n",
       "      <td>...</td>\n",
       "      <td>...</td>\n",
       "      <td>...</td>\n",
       "      <td>...</td>\n",
       "    </tr>\n",
       "    <tr>\n",
       "      <th>3157</th>\n",
       "      <td>2022-08-30 20:56:09+00:00</td>\n",
       "      <td>11</td>\n",
       "      <td>151</td>\n",
       "      <td>📸 | @SabrinaAnnLynn, @taylorswift13, and Rosé ...</td>\n",
       "      <td>sabrinaupdatehq</td>\n",
       "      <td>| @sabrinaannlynn, @taylorswift13, and rose fr...</td>\n",
       "      <td>0.841150</td>\n",
       "      <td>0.155392</td>\n",
       "      <td>0.003458</td>\n",
       "    </tr>\n",
       "    <tr>\n",
       "      <th>3158</th>\n",
       "      <td>2022-08-30 20:54:36+00:00</td>\n",
       "      <td>29</td>\n",
       "      <td>210</td>\n",
       "      <td>I'd rather listen to \"All Summer Long\" by Kid ...</td>\n",
       "      <td>NickAdamsinUSA</td>\n",
       "      <td>i'd rather listen to \"all summer long\" by kid ...</td>\n",
       "      <td>0.280083</td>\n",
       "      <td>0.043955</td>\n",
       "      <td>0.675962</td>\n",
       "    </tr>\n",
       "    <tr>\n",
       "      <th>3159</th>\n",
       "      <td>2022-08-30 20:53:15+00:00</td>\n",
       "      <td>16</td>\n",
       "      <td>87</td>\n",
       "      <td>Swifties who openly use their account to mock ...</td>\n",
       "      <td>oneswiftlover</td>\n",
       "      <td>swifties who openly use their account to mock ...</td>\n",
       "      <td>0.167535</td>\n",
       "      <td>0.010010</td>\n",
       "      <td>0.822455</td>\n",
       "    </tr>\n",
       "    <tr>\n",
       "      <th>3160</th>\n",
       "      <td>2022-08-30 20:51:16+00:00</td>\n",
       "      <td>145</td>\n",
       "      <td>2161</td>\n",
       "      <td>‼️UPDATE: @taylorswift13's profile picture has...</td>\n",
       "      <td>TheSwiftSociety</td>\n",
       "      <td>update: @taylorswift13's profile picture has b...</td>\n",
       "      <td>0.893864</td>\n",
       "      <td>0.100866</td>\n",
       "      <td>0.005270</td>\n",
       "    </tr>\n",
       "    <tr>\n",
       "      <th>3161</th>\n",
       "      <td>2022-08-30 20:43:10+00:00</td>\n",
       "      <td>31</td>\n",
       "      <td>1363</td>\n",
       "      <td>@NickAdamsinUSA Why?  What is wrong with Taylo...</td>\n",
       "      <td>BabeTruth2</td>\n",
       "      <td>@nickadamsinusa why? what is wrong with taylor...</td>\n",
       "      <td>0.104745</td>\n",
       "      <td>0.004432</td>\n",
       "      <td>0.890823</td>\n",
       "    </tr>\n",
       "  </tbody>\n",
       "</table>\n",
       "<p>3162 rows × 9 columns</p>\n",
       "</div>"
      ],
      "text/plain": [
       "                      Datetime  retweet  likes  \\\n",
       "0    2022-06-30 23:47:21+00:00       49    246   \n",
       "1    2022-06-30 23:36:15+00:00     1065  12458   \n",
       "2    2022-06-30 23:20:45+00:00       51    826   \n",
       "3    2022-06-30 22:58:03+00:00     1133   8686   \n",
       "4    2022-06-30 22:53:20+00:00       11    180   \n",
       "...                        ...      ...    ...   \n",
       "3157 2022-08-30 20:56:09+00:00       11    151   \n",
       "3158 2022-08-30 20:54:36+00:00       29    210   \n",
       "3159 2022-08-30 20:53:15+00:00       16     87   \n",
       "3160 2022-08-30 20:51:16+00:00      145   2161   \n",
       "3161 2022-08-30 20:43:10+00:00       31   1363   \n",
       "\n",
       "                                                   Text         Username  \\\n",
       "0     Most streamed artists on Global Spotify (June ...  WORLDMUSICAWARD   \n",
       "1     Taylor Swift is engaged to Joe Alwyn: report h...           nypost   \n",
       "2     does it ever hit you that phoebe bridgers and ...     phoebesmoons   \n",
       "3     me?????? obsessed?????? with????? Carolina by ...       klbegley15   \n",
       "4     I miss watching updates about american weather...     icantunseeit   \n",
       "...                                                 ...              ...   \n",
       "3157  📸 | @SabrinaAnnLynn, @taylorswift13, and Rosé ...  sabrinaupdatehq   \n",
       "3158  I'd rather listen to \"All Summer Long\" by Kid ...   NickAdamsinUSA   \n",
       "3159  Swifties who openly use their account to mock ...    oneswiftlover   \n",
       "3160  ‼️UPDATE: @taylorswift13's profile picture has...  TheSwiftSociety   \n",
       "3161  @NickAdamsinUSA Why?  What is wrong with Taylo...       BabeTruth2   \n",
       "\n",
       "                                          cleaned_tweet   Neutral  Positive  \\\n",
       "0     most streamed artists on global spotify (june ...  0.733290  0.256657   \n",
       "1          taylor swift is engaged to joe alwyn: report  0.955908  0.024010   \n",
       "2     does it ever hit you that phoebe bridgers and ...  0.724014  0.260200   \n",
       "3     me?????? obsessed?????? with????? carolina by ...  0.040586  0.956709   \n",
       "4     i miss watching updates about american weather...  0.670205  0.159175   \n",
       "...                                                 ...       ...       ...   \n",
       "3157  | @sabrinaannlynn, @taylorswift13, and rose fr...  0.841150  0.155392   \n",
       "3158  i'd rather listen to \"all summer long\" by kid ...  0.280083  0.043955   \n",
       "3159  swifties who openly use their account to mock ...  0.167535  0.010010   \n",
       "3160  update: @taylorswift13's profile picture has b...  0.893864  0.100866   \n",
       "3161  @nickadamsinusa why? what is wrong with taylor...  0.104745  0.004432   \n",
       "\n",
       "      Negative  \n",
       "0     0.010054  \n",
       "1     0.020082  \n",
       "2     0.015786  \n",
       "3     0.002705  \n",
       "4     0.170620  \n",
       "...        ...  \n",
       "3157  0.003458  \n",
       "3158  0.675962  \n",
       "3159  0.822455  \n",
       "3160  0.005270  \n",
       "3161  0.890823  \n",
       "\n",
       "[3162 rows x 9 columns]"
      ]
     },
     "execution_count": 105,
     "metadata": {},
     "output_type": "execute_result"
    }
   ],
   "source": [
    "pd.merge(ts_tweets, pd.DataFrame.from_dict(get_sentiment_score_dictionary(ts_tweets.cleaned_tweet)), left_index= True, right_index= True)"
   ]
  },
  {
   "cell_type": "code",
   "execution_count": 106,
   "id": "66d4c12b",
   "metadata": {},
   "outputs": [],
   "source": [
    "ts_df = pd.merge(ts_tweets, pd.DataFrame.from_dict(classified_sentiment_ts), left_index= True, right_index= True)"
   ]
  },
  {
   "cell_type": "code",
   "execution_count": 107,
   "id": "e49f8ecd",
   "metadata": {},
   "outputs": [],
   "source": [
    "ts_df.rename(columns = {0:'sentiment_classification'}, inplace = True)"
   ]
  },
  {
   "cell_type": "code",
   "execution_count": 108,
   "id": "1dae73dd",
   "metadata": {},
   "outputs": [
    {
     "data": {
      "text/plain": [
       "Neutral     1700\n",
       "Positive    1260\n",
       "Negative     202\n",
       "Name: sentiment_classification, dtype: int64"
      ]
     },
     "execution_count": 108,
     "metadata": {},
     "output_type": "execute_result"
    }
   ],
   "source": [
    "ts_df.sentiment_classification.value_counts()"
   ]
  },
  {
   "cell_type": "code",
   "execution_count": 201,
   "id": "31c6dc82",
   "metadata": {},
   "outputs": [],
   "source": [
    "import os "
   ]
  },
  {
   "cell_type": "code",
   "execution_count": 202,
   "id": "971220a4",
   "metadata": {},
   "outputs": [
    {
     "data": {
      "text/plain": [
       "'/Users/stefantonto/code/srs366/musicians_v_cancellation/notebooks'"
      ]
     },
     "execution_count": 202,
     "metadata": {},
     "output_type": "execute_result"
    }
   ],
   "source": [
    "pwd"
   ]
  },
  {
   "cell_type": "code",
   "execution_count": 274,
   "id": "4f4eb98c",
   "metadata": {
    "scrolled": true
   },
   "outputs": [
    {
     "ename": "FileNotFoundError",
     "evalue": "[Errno 2] No such file or directory: '../raw_data/artists.csv'",
     "output_type": "error",
     "traceback": [
      "\u001b[0;31m---------------------------------------------------------------------------\u001b[0m",
      "\u001b[0;31mFileNotFoundError\u001b[0m                         Traceback (most recent call last)",
      "Input \u001b[0;32mIn [274]\u001b[0m, in \u001b[0;36m<cell line: 2>\u001b[0;34m()\u001b[0m\n\u001b[1;32m      1\u001b[0m \u001b[38;5;28;01mimport\u001b[39;00m \u001b[38;5;21;01mpandas\u001b[39;00m \u001b[38;5;28;01mas\u001b[39;00m \u001b[38;5;21;01mpd\u001b[39;00m\n\u001b[0;32m----> 2\u001b[0m artists_df \u001b[38;5;241m=\u001b[39m \u001b[43mpd\u001b[49m\u001b[38;5;241;43m.\u001b[39;49m\u001b[43mread_csv\u001b[49m\u001b[43m(\u001b[49m\u001b[38;5;124;43m'\u001b[39;49m\u001b[38;5;124;43m../raw_data/artists.csv\u001b[39;49m\u001b[38;5;124;43m'\u001b[39;49m\u001b[43m)\u001b[49m\n",
      "File \u001b[0;32m~/.pyenv/versions/3.8.12/envs/cancelled/lib/python3.8/site-packages/pandas/util/_decorators.py:311\u001b[0m, in \u001b[0;36mdeprecate_nonkeyword_arguments.<locals>.decorate.<locals>.wrapper\u001b[0;34m(*args, **kwargs)\u001b[0m\n\u001b[1;32m    305\u001b[0m \u001b[38;5;28;01mif\u001b[39;00m \u001b[38;5;28mlen\u001b[39m(args) \u001b[38;5;241m>\u001b[39m num_allow_args:\n\u001b[1;32m    306\u001b[0m     warnings\u001b[38;5;241m.\u001b[39mwarn(\n\u001b[1;32m    307\u001b[0m         msg\u001b[38;5;241m.\u001b[39mformat(arguments\u001b[38;5;241m=\u001b[39marguments),\n\u001b[1;32m    308\u001b[0m         \u001b[38;5;167;01mFutureWarning\u001b[39;00m,\n\u001b[1;32m    309\u001b[0m         stacklevel\u001b[38;5;241m=\u001b[39mstacklevel,\n\u001b[1;32m    310\u001b[0m     )\n\u001b[0;32m--> 311\u001b[0m \u001b[38;5;28;01mreturn\u001b[39;00m \u001b[43mfunc\u001b[49m\u001b[43m(\u001b[49m\u001b[38;5;241;43m*\u001b[39;49m\u001b[43margs\u001b[49m\u001b[43m,\u001b[49m\u001b[43m \u001b[49m\u001b[38;5;241;43m*\u001b[39;49m\u001b[38;5;241;43m*\u001b[39;49m\u001b[43mkwargs\u001b[49m\u001b[43m)\u001b[49m\n",
      "File \u001b[0;32m~/.pyenv/versions/3.8.12/envs/cancelled/lib/python3.8/site-packages/pandas/io/parsers/readers.py:678\u001b[0m, in \u001b[0;36mread_csv\u001b[0;34m(filepath_or_buffer, sep, delimiter, header, names, index_col, usecols, squeeze, prefix, mangle_dupe_cols, dtype, engine, converters, true_values, false_values, skipinitialspace, skiprows, skipfooter, nrows, na_values, keep_default_na, na_filter, verbose, skip_blank_lines, parse_dates, infer_datetime_format, keep_date_col, date_parser, dayfirst, cache_dates, iterator, chunksize, compression, thousands, decimal, lineterminator, quotechar, quoting, doublequote, escapechar, comment, encoding, encoding_errors, dialect, error_bad_lines, warn_bad_lines, on_bad_lines, delim_whitespace, low_memory, memory_map, float_precision, storage_options)\u001b[0m\n\u001b[1;32m    663\u001b[0m kwds_defaults \u001b[38;5;241m=\u001b[39m _refine_defaults_read(\n\u001b[1;32m    664\u001b[0m     dialect,\n\u001b[1;32m    665\u001b[0m     delimiter,\n\u001b[0;32m   (...)\u001b[0m\n\u001b[1;32m    674\u001b[0m     defaults\u001b[38;5;241m=\u001b[39m{\u001b[38;5;124m\"\u001b[39m\u001b[38;5;124mdelimiter\u001b[39m\u001b[38;5;124m\"\u001b[39m: \u001b[38;5;124m\"\u001b[39m\u001b[38;5;124m,\u001b[39m\u001b[38;5;124m\"\u001b[39m},\n\u001b[1;32m    675\u001b[0m )\n\u001b[1;32m    676\u001b[0m kwds\u001b[38;5;241m.\u001b[39mupdate(kwds_defaults)\n\u001b[0;32m--> 678\u001b[0m \u001b[38;5;28;01mreturn\u001b[39;00m \u001b[43m_read\u001b[49m\u001b[43m(\u001b[49m\u001b[43mfilepath_or_buffer\u001b[49m\u001b[43m,\u001b[49m\u001b[43m \u001b[49m\u001b[43mkwds\u001b[49m\u001b[43m)\u001b[49m\n",
      "File \u001b[0;32m~/.pyenv/versions/3.8.12/envs/cancelled/lib/python3.8/site-packages/pandas/io/parsers/readers.py:575\u001b[0m, in \u001b[0;36m_read\u001b[0;34m(filepath_or_buffer, kwds)\u001b[0m\n\u001b[1;32m    572\u001b[0m _validate_names(kwds\u001b[38;5;241m.\u001b[39mget(\u001b[38;5;124m\"\u001b[39m\u001b[38;5;124mnames\u001b[39m\u001b[38;5;124m\"\u001b[39m, \u001b[38;5;28;01mNone\u001b[39;00m))\n\u001b[1;32m    574\u001b[0m \u001b[38;5;66;03m# Create the parser.\u001b[39;00m\n\u001b[0;32m--> 575\u001b[0m parser \u001b[38;5;241m=\u001b[39m \u001b[43mTextFileReader\u001b[49m\u001b[43m(\u001b[49m\u001b[43mfilepath_or_buffer\u001b[49m\u001b[43m,\u001b[49m\u001b[43m \u001b[49m\u001b[38;5;241;43m*\u001b[39;49m\u001b[38;5;241;43m*\u001b[39;49m\u001b[43mkwds\u001b[49m\u001b[43m)\u001b[49m\n\u001b[1;32m    577\u001b[0m \u001b[38;5;28;01mif\u001b[39;00m chunksize \u001b[38;5;129;01mor\u001b[39;00m iterator:\n\u001b[1;32m    578\u001b[0m     \u001b[38;5;28;01mreturn\u001b[39;00m parser\n",
      "File \u001b[0;32m~/.pyenv/versions/3.8.12/envs/cancelled/lib/python3.8/site-packages/pandas/io/parsers/readers.py:932\u001b[0m, in \u001b[0;36mTextFileReader.__init__\u001b[0;34m(self, f, engine, **kwds)\u001b[0m\n\u001b[1;32m    929\u001b[0m     \u001b[38;5;28mself\u001b[39m\u001b[38;5;241m.\u001b[39moptions[\u001b[38;5;124m\"\u001b[39m\u001b[38;5;124mhas_index_names\u001b[39m\u001b[38;5;124m\"\u001b[39m] \u001b[38;5;241m=\u001b[39m kwds[\u001b[38;5;124m\"\u001b[39m\u001b[38;5;124mhas_index_names\u001b[39m\u001b[38;5;124m\"\u001b[39m]\n\u001b[1;32m    931\u001b[0m \u001b[38;5;28mself\u001b[39m\u001b[38;5;241m.\u001b[39mhandles: IOHandles \u001b[38;5;241m|\u001b[39m \u001b[38;5;28;01mNone\u001b[39;00m \u001b[38;5;241m=\u001b[39m \u001b[38;5;28;01mNone\u001b[39;00m\n\u001b[0;32m--> 932\u001b[0m \u001b[38;5;28mself\u001b[39m\u001b[38;5;241m.\u001b[39m_engine \u001b[38;5;241m=\u001b[39m \u001b[38;5;28;43mself\u001b[39;49m\u001b[38;5;241;43m.\u001b[39;49m\u001b[43m_make_engine\u001b[49m\u001b[43m(\u001b[49m\u001b[43mf\u001b[49m\u001b[43m,\u001b[49m\u001b[43m \u001b[49m\u001b[38;5;28;43mself\u001b[39;49m\u001b[38;5;241;43m.\u001b[39;49m\u001b[43mengine\u001b[49m\u001b[43m)\u001b[49m\n",
      "File \u001b[0;32m~/.pyenv/versions/3.8.12/envs/cancelled/lib/python3.8/site-packages/pandas/io/parsers/readers.py:1216\u001b[0m, in \u001b[0;36mTextFileReader._make_engine\u001b[0;34m(self, f, engine)\u001b[0m\n\u001b[1;32m   1212\u001b[0m     mode \u001b[38;5;241m=\u001b[39m \u001b[38;5;124m\"\u001b[39m\u001b[38;5;124mrb\u001b[39m\u001b[38;5;124m\"\u001b[39m\n\u001b[1;32m   1213\u001b[0m \u001b[38;5;66;03m# error: No overload variant of \"get_handle\" matches argument types\u001b[39;00m\n\u001b[1;32m   1214\u001b[0m \u001b[38;5;66;03m# \"Union[str, PathLike[str], ReadCsvBuffer[bytes], ReadCsvBuffer[str]]\"\u001b[39;00m\n\u001b[1;32m   1215\u001b[0m \u001b[38;5;66;03m# , \"str\", \"bool\", \"Any\", \"Any\", \"Any\", \"Any\", \"Any\"\u001b[39;00m\n\u001b[0;32m-> 1216\u001b[0m \u001b[38;5;28mself\u001b[39m\u001b[38;5;241m.\u001b[39mhandles \u001b[38;5;241m=\u001b[39m \u001b[43mget_handle\u001b[49m\u001b[43m(\u001b[49m\u001b[43m  \u001b[49m\u001b[38;5;66;43;03m# type: ignore[call-overload]\u001b[39;49;00m\n\u001b[1;32m   1217\u001b[0m \u001b[43m    \u001b[49m\u001b[43mf\u001b[49m\u001b[43m,\u001b[49m\n\u001b[1;32m   1218\u001b[0m \u001b[43m    \u001b[49m\u001b[43mmode\u001b[49m\u001b[43m,\u001b[49m\n\u001b[1;32m   1219\u001b[0m \u001b[43m    \u001b[49m\u001b[43mencoding\u001b[49m\u001b[38;5;241;43m=\u001b[39;49m\u001b[38;5;28;43mself\u001b[39;49m\u001b[38;5;241;43m.\u001b[39;49m\u001b[43moptions\u001b[49m\u001b[38;5;241;43m.\u001b[39;49m\u001b[43mget\u001b[49m\u001b[43m(\u001b[49m\u001b[38;5;124;43m\"\u001b[39;49m\u001b[38;5;124;43mencoding\u001b[39;49m\u001b[38;5;124;43m\"\u001b[39;49m\u001b[43m,\u001b[49m\u001b[43m \u001b[49m\u001b[38;5;28;43;01mNone\u001b[39;49;00m\u001b[43m)\u001b[49m\u001b[43m,\u001b[49m\n\u001b[1;32m   1220\u001b[0m \u001b[43m    \u001b[49m\u001b[43mcompression\u001b[49m\u001b[38;5;241;43m=\u001b[39;49m\u001b[38;5;28;43mself\u001b[39;49m\u001b[38;5;241;43m.\u001b[39;49m\u001b[43moptions\u001b[49m\u001b[38;5;241;43m.\u001b[39;49m\u001b[43mget\u001b[49m\u001b[43m(\u001b[49m\u001b[38;5;124;43m\"\u001b[39;49m\u001b[38;5;124;43mcompression\u001b[39;49m\u001b[38;5;124;43m\"\u001b[39;49m\u001b[43m,\u001b[49m\u001b[43m \u001b[49m\u001b[38;5;28;43;01mNone\u001b[39;49;00m\u001b[43m)\u001b[49m\u001b[43m,\u001b[49m\n\u001b[1;32m   1221\u001b[0m \u001b[43m    \u001b[49m\u001b[43mmemory_map\u001b[49m\u001b[38;5;241;43m=\u001b[39;49m\u001b[38;5;28;43mself\u001b[39;49m\u001b[38;5;241;43m.\u001b[39;49m\u001b[43moptions\u001b[49m\u001b[38;5;241;43m.\u001b[39;49m\u001b[43mget\u001b[49m\u001b[43m(\u001b[49m\u001b[38;5;124;43m\"\u001b[39;49m\u001b[38;5;124;43mmemory_map\u001b[39;49m\u001b[38;5;124;43m\"\u001b[39;49m\u001b[43m,\u001b[49m\u001b[43m \u001b[49m\u001b[38;5;28;43;01mFalse\u001b[39;49;00m\u001b[43m)\u001b[49m\u001b[43m,\u001b[49m\n\u001b[1;32m   1222\u001b[0m \u001b[43m    \u001b[49m\u001b[43mis_text\u001b[49m\u001b[38;5;241;43m=\u001b[39;49m\u001b[43mis_text\u001b[49m\u001b[43m,\u001b[49m\n\u001b[1;32m   1223\u001b[0m \u001b[43m    \u001b[49m\u001b[43merrors\u001b[49m\u001b[38;5;241;43m=\u001b[39;49m\u001b[38;5;28;43mself\u001b[39;49m\u001b[38;5;241;43m.\u001b[39;49m\u001b[43moptions\u001b[49m\u001b[38;5;241;43m.\u001b[39;49m\u001b[43mget\u001b[49m\u001b[43m(\u001b[49m\u001b[38;5;124;43m\"\u001b[39;49m\u001b[38;5;124;43mencoding_errors\u001b[39;49m\u001b[38;5;124;43m\"\u001b[39;49m\u001b[43m,\u001b[49m\u001b[43m \u001b[49m\u001b[38;5;124;43m\"\u001b[39;49m\u001b[38;5;124;43mstrict\u001b[39;49m\u001b[38;5;124;43m\"\u001b[39;49m\u001b[43m)\u001b[49m\u001b[43m,\u001b[49m\n\u001b[1;32m   1224\u001b[0m \u001b[43m    \u001b[49m\u001b[43mstorage_options\u001b[49m\u001b[38;5;241;43m=\u001b[39;49m\u001b[38;5;28;43mself\u001b[39;49m\u001b[38;5;241;43m.\u001b[39;49m\u001b[43moptions\u001b[49m\u001b[38;5;241;43m.\u001b[39;49m\u001b[43mget\u001b[49m\u001b[43m(\u001b[49m\u001b[38;5;124;43m\"\u001b[39;49m\u001b[38;5;124;43mstorage_options\u001b[39;49m\u001b[38;5;124;43m\"\u001b[39;49m\u001b[43m,\u001b[49m\u001b[43m \u001b[49m\u001b[38;5;28;43;01mNone\u001b[39;49;00m\u001b[43m)\u001b[49m\u001b[43m,\u001b[49m\n\u001b[1;32m   1225\u001b[0m \u001b[43m\u001b[49m\u001b[43m)\u001b[49m\n\u001b[1;32m   1226\u001b[0m \u001b[38;5;28;01massert\u001b[39;00m \u001b[38;5;28mself\u001b[39m\u001b[38;5;241m.\u001b[39mhandles \u001b[38;5;129;01mis\u001b[39;00m \u001b[38;5;129;01mnot\u001b[39;00m \u001b[38;5;28;01mNone\u001b[39;00m\n\u001b[1;32m   1227\u001b[0m f \u001b[38;5;241m=\u001b[39m \u001b[38;5;28mself\u001b[39m\u001b[38;5;241m.\u001b[39mhandles\u001b[38;5;241m.\u001b[39mhandle\n",
      "File \u001b[0;32m~/.pyenv/versions/3.8.12/envs/cancelled/lib/python3.8/site-packages/pandas/io/common.py:786\u001b[0m, in \u001b[0;36mget_handle\u001b[0;34m(path_or_buf, mode, encoding, compression, memory_map, is_text, errors, storage_options)\u001b[0m\n\u001b[1;32m    781\u001b[0m \u001b[38;5;28;01melif\u001b[39;00m \u001b[38;5;28misinstance\u001b[39m(handle, \u001b[38;5;28mstr\u001b[39m):\n\u001b[1;32m    782\u001b[0m     \u001b[38;5;66;03m# Check whether the filename is to be opened in binary mode.\u001b[39;00m\n\u001b[1;32m    783\u001b[0m     \u001b[38;5;66;03m# Binary mode does not support 'encoding' and 'newline'.\u001b[39;00m\n\u001b[1;32m    784\u001b[0m     \u001b[38;5;28;01mif\u001b[39;00m ioargs\u001b[38;5;241m.\u001b[39mencoding \u001b[38;5;129;01mand\u001b[39;00m \u001b[38;5;124m\"\u001b[39m\u001b[38;5;124mb\u001b[39m\u001b[38;5;124m\"\u001b[39m \u001b[38;5;129;01mnot\u001b[39;00m \u001b[38;5;129;01min\u001b[39;00m ioargs\u001b[38;5;241m.\u001b[39mmode:\n\u001b[1;32m    785\u001b[0m         \u001b[38;5;66;03m# Encoding\u001b[39;00m\n\u001b[0;32m--> 786\u001b[0m         handle \u001b[38;5;241m=\u001b[39m \u001b[38;5;28;43mopen\u001b[39;49m\u001b[43m(\u001b[49m\n\u001b[1;32m    787\u001b[0m \u001b[43m            \u001b[49m\u001b[43mhandle\u001b[49m\u001b[43m,\u001b[49m\n\u001b[1;32m    788\u001b[0m \u001b[43m            \u001b[49m\u001b[43mioargs\u001b[49m\u001b[38;5;241;43m.\u001b[39;49m\u001b[43mmode\u001b[49m\u001b[43m,\u001b[49m\n\u001b[1;32m    789\u001b[0m \u001b[43m            \u001b[49m\u001b[43mencoding\u001b[49m\u001b[38;5;241;43m=\u001b[39;49m\u001b[43mioargs\u001b[49m\u001b[38;5;241;43m.\u001b[39;49m\u001b[43mencoding\u001b[49m\u001b[43m,\u001b[49m\n\u001b[1;32m    790\u001b[0m \u001b[43m            \u001b[49m\u001b[43merrors\u001b[49m\u001b[38;5;241;43m=\u001b[39;49m\u001b[43merrors\u001b[49m\u001b[43m,\u001b[49m\n\u001b[1;32m    791\u001b[0m \u001b[43m            \u001b[49m\u001b[43mnewline\u001b[49m\u001b[38;5;241;43m=\u001b[39;49m\u001b[38;5;124;43m\"\u001b[39;49m\u001b[38;5;124;43m\"\u001b[39;49m\u001b[43m,\u001b[49m\n\u001b[1;32m    792\u001b[0m \u001b[43m        \u001b[49m\u001b[43m)\u001b[49m\n\u001b[1;32m    793\u001b[0m     \u001b[38;5;28;01melse\u001b[39;00m:\n\u001b[1;32m    794\u001b[0m         \u001b[38;5;66;03m# Binary mode\u001b[39;00m\n\u001b[1;32m    795\u001b[0m         handle \u001b[38;5;241m=\u001b[39m \u001b[38;5;28mopen\u001b[39m(handle, ioargs\u001b[38;5;241m.\u001b[39mmode)\n",
      "\u001b[0;31mFileNotFoundError\u001b[0m: [Errno 2] No such file or directory: '../raw_data/artists.csv'"
     ]
    }
   ],
   "source": [
    "import pandas as pd\n",
    "artists_df = pd.read_csv('../raw_data/artists.csv')"
   ]
  },
  {
   "cell_type": "code",
   "execution_count": 273,
   "id": "4a76f7aa",
   "metadata": {
    "collapsed": true
   },
   "outputs": [
    {
     "ename": "AttributeError",
     "evalue": "'list' object has no attribute 'split'",
     "output_type": "error",
     "traceback": [
      "\u001b[0;31m---------------------------------------------------------------------------\u001b[0m",
      "\u001b[0;31mAttributeError\u001b[0m                            Traceback (most recent call last)",
      "Input \u001b[0;32mIn [273]\u001b[0m, in \u001b[0;36m<cell line: 3>\u001b[0;34m()\u001b[0m\n\u001b[1;32m      1\u001b[0m \u001b[38;5;28;01mimport\u001b[39;00m \u001b[38;5;21;01mnumpy\u001b[39;00m \u001b[38;5;28;01mas\u001b[39;00m \u001b[38;5;21;01mnp\u001b[39;00m \n\u001b[0;32m----> 3\u001b[0m artists_df[\u001b[38;5;124m'\u001b[39m\u001b[38;5;124mNICKNAME\u001b[39m\u001b[38;5;124m'\u001b[39m] \u001b[38;5;241m=\u001b[39m \u001b[43martists_df\u001b[49m\u001b[43m[\u001b[49m\u001b[38;5;124;43m'\u001b[39;49m\u001b[38;5;124;43mNICKNAME\u001b[39;49m\u001b[38;5;124;43m'\u001b[39;49m\u001b[43m]\u001b[49m\u001b[38;5;241;43m.\u001b[39;49m\u001b[43mapply\u001b[49m\u001b[43m(\u001b[49m\u001b[38;5;28;43;01mlambda\u001b[39;49;00m\u001b[43m \u001b[49m\u001b[43mx\u001b[49m\u001b[43m \u001b[49m\u001b[43m:\u001b[49m\u001b[43m \u001b[49m\u001b[43mx\u001b[49m\u001b[38;5;241;43m.\u001b[39;49m\u001b[43msplit\u001b[49m\u001b[43m(\u001b[49m\u001b[38;5;124;43m\"\u001b[39;49m\u001b[38;5;124;43m, \u001b[39;49m\u001b[38;5;124;43m\"\u001b[39;49m\u001b[43m)\u001b[49m\u001b[43m)\u001b[49m\n",
      "File \u001b[0;32m~/.pyenv/versions/3.8.12/envs/cancelled/lib/python3.8/site-packages/pandas/core/series.py:4433\u001b[0m, in \u001b[0;36mSeries.apply\u001b[0;34m(self, func, convert_dtype, args, **kwargs)\u001b[0m\n\u001b[1;32m   4323\u001b[0m \u001b[38;5;28;01mdef\u001b[39;00m \u001b[38;5;21mapply\u001b[39m(\n\u001b[1;32m   4324\u001b[0m     \u001b[38;5;28mself\u001b[39m,\n\u001b[1;32m   4325\u001b[0m     func: AggFuncType,\n\u001b[0;32m   (...)\u001b[0m\n\u001b[1;32m   4328\u001b[0m     \u001b[38;5;241m*\u001b[39m\u001b[38;5;241m*\u001b[39mkwargs,\n\u001b[1;32m   4329\u001b[0m ) \u001b[38;5;241m-\u001b[39m\u001b[38;5;241m>\u001b[39m DataFrame \u001b[38;5;241m|\u001b[39m Series:\n\u001b[1;32m   4330\u001b[0m     \u001b[38;5;124;03m\"\"\"\u001b[39;00m\n\u001b[1;32m   4331\u001b[0m \u001b[38;5;124;03m    Invoke function on values of Series.\u001b[39;00m\n\u001b[1;32m   4332\u001b[0m \n\u001b[0;32m   (...)\u001b[0m\n\u001b[1;32m   4431\u001b[0m \u001b[38;5;124;03m    dtype: float64\u001b[39;00m\n\u001b[1;32m   4432\u001b[0m \u001b[38;5;124;03m    \"\"\"\u001b[39;00m\n\u001b[0;32m-> 4433\u001b[0m     \u001b[38;5;28;01mreturn\u001b[39;00m \u001b[43mSeriesApply\u001b[49m\u001b[43m(\u001b[49m\u001b[38;5;28;43mself\u001b[39;49m\u001b[43m,\u001b[49m\u001b[43m \u001b[49m\u001b[43mfunc\u001b[49m\u001b[43m,\u001b[49m\u001b[43m \u001b[49m\u001b[43mconvert_dtype\u001b[49m\u001b[43m,\u001b[49m\u001b[43m \u001b[49m\u001b[43margs\u001b[49m\u001b[43m,\u001b[49m\u001b[43m \u001b[49m\u001b[43mkwargs\u001b[49m\u001b[43m)\u001b[49m\u001b[38;5;241;43m.\u001b[39;49m\u001b[43mapply\u001b[49m\u001b[43m(\u001b[49m\u001b[43m)\u001b[49m\n",
      "File \u001b[0;32m~/.pyenv/versions/3.8.12/envs/cancelled/lib/python3.8/site-packages/pandas/core/apply.py:1088\u001b[0m, in \u001b[0;36mSeriesApply.apply\u001b[0;34m(self)\u001b[0m\n\u001b[1;32m   1084\u001b[0m \u001b[38;5;28;01mif\u001b[39;00m \u001b[38;5;28misinstance\u001b[39m(\u001b[38;5;28mself\u001b[39m\u001b[38;5;241m.\u001b[39mf, \u001b[38;5;28mstr\u001b[39m):\n\u001b[1;32m   1085\u001b[0m     \u001b[38;5;66;03m# if we are a string, try to dispatch\u001b[39;00m\n\u001b[1;32m   1086\u001b[0m     \u001b[38;5;28;01mreturn\u001b[39;00m \u001b[38;5;28mself\u001b[39m\u001b[38;5;241m.\u001b[39mapply_str()\n\u001b[0;32m-> 1088\u001b[0m \u001b[38;5;28;01mreturn\u001b[39;00m \u001b[38;5;28;43mself\u001b[39;49m\u001b[38;5;241;43m.\u001b[39;49m\u001b[43mapply_standard\u001b[49m\u001b[43m(\u001b[49m\u001b[43m)\u001b[49m\n",
      "File \u001b[0;32m~/.pyenv/versions/3.8.12/envs/cancelled/lib/python3.8/site-packages/pandas/core/apply.py:1143\u001b[0m, in \u001b[0;36mSeriesApply.apply_standard\u001b[0;34m(self)\u001b[0m\n\u001b[1;32m   1137\u001b[0m         values \u001b[38;5;241m=\u001b[39m obj\u001b[38;5;241m.\u001b[39mastype(\u001b[38;5;28mobject\u001b[39m)\u001b[38;5;241m.\u001b[39m_values\n\u001b[1;32m   1138\u001b[0m         \u001b[38;5;66;03m# error: Argument 2 to \"map_infer\" has incompatible type\u001b[39;00m\n\u001b[1;32m   1139\u001b[0m         \u001b[38;5;66;03m# \"Union[Callable[..., Any], str, List[Union[Callable[..., Any], str]],\u001b[39;00m\n\u001b[1;32m   1140\u001b[0m         \u001b[38;5;66;03m# Dict[Hashable, Union[Union[Callable[..., Any], str],\u001b[39;00m\n\u001b[1;32m   1141\u001b[0m         \u001b[38;5;66;03m# List[Union[Callable[..., Any], str]]]]]\"; expected\u001b[39;00m\n\u001b[1;32m   1142\u001b[0m         \u001b[38;5;66;03m# \"Callable[[Any], Any]\"\u001b[39;00m\n\u001b[0;32m-> 1143\u001b[0m         mapped \u001b[38;5;241m=\u001b[39m \u001b[43mlib\u001b[49m\u001b[38;5;241;43m.\u001b[39;49m\u001b[43mmap_infer\u001b[49m\u001b[43m(\u001b[49m\n\u001b[1;32m   1144\u001b[0m \u001b[43m            \u001b[49m\u001b[43mvalues\u001b[49m\u001b[43m,\u001b[49m\n\u001b[1;32m   1145\u001b[0m \u001b[43m            \u001b[49m\u001b[43mf\u001b[49m\u001b[43m,\u001b[49m\u001b[43m  \u001b[49m\u001b[38;5;66;43;03m# type: ignore[arg-type]\u001b[39;49;00m\n\u001b[1;32m   1146\u001b[0m \u001b[43m            \u001b[49m\u001b[43mconvert\u001b[49m\u001b[38;5;241;43m=\u001b[39;49m\u001b[38;5;28;43mself\u001b[39;49m\u001b[38;5;241;43m.\u001b[39;49m\u001b[43mconvert_dtype\u001b[49m\u001b[43m,\u001b[49m\n\u001b[1;32m   1147\u001b[0m \u001b[43m        \u001b[49m\u001b[43m)\u001b[49m\n\u001b[1;32m   1149\u001b[0m \u001b[38;5;28;01mif\u001b[39;00m \u001b[38;5;28mlen\u001b[39m(mapped) \u001b[38;5;129;01mand\u001b[39;00m \u001b[38;5;28misinstance\u001b[39m(mapped[\u001b[38;5;241m0\u001b[39m], ABCSeries):\n\u001b[1;32m   1150\u001b[0m     \u001b[38;5;66;03m# GH#43986 Need to do list(mapped) in order to get treated as nested\u001b[39;00m\n\u001b[1;32m   1151\u001b[0m     \u001b[38;5;66;03m#  See also GH#25959 regarding EA support\u001b[39;00m\n\u001b[1;32m   1152\u001b[0m     \u001b[38;5;28;01mreturn\u001b[39;00m obj\u001b[38;5;241m.\u001b[39m_constructor_expanddim(\u001b[38;5;28mlist\u001b[39m(mapped), index\u001b[38;5;241m=\u001b[39mobj\u001b[38;5;241m.\u001b[39mindex)\n",
      "File \u001b[0;32m~/.pyenv/versions/3.8.12/envs/cancelled/lib/python3.8/site-packages/pandas/_libs/lib.pyx:2870\u001b[0m, in \u001b[0;36mpandas._libs.lib.map_infer\u001b[0;34m()\u001b[0m\n",
      "Input \u001b[0;32mIn [273]\u001b[0m, in \u001b[0;36m<lambda>\u001b[0;34m(x)\u001b[0m\n\u001b[1;32m      1\u001b[0m \u001b[38;5;28;01mimport\u001b[39;00m \u001b[38;5;21;01mnumpy\u001b[39;00m \u001b[38;5;28;01mas\u001b[39;00m \u001b[38;5;21;01mnp\u001b[39;00m \n\u001b[0;32m----> 3\u001b[0m artists_df[\u001b[38;5;124m'\u001b[39m\u001b[38;5;124mNICKNAME\u001b[39m\u001b[38;5;124m'\u001b[39m] \u001b[38;5;241m=\u001b[39m artists_df[\u001b[38;5;124m'\u001b[39m\u001b[38;5;124mNICKNAME\u001b[39m\u001b[38;5;124m'\u001b[39m]\u001b[38;5;241m.\u001b[39mapply(\u001b[38;5;28;01mlambda\u001b[39;00m x : \u001b[43mx\u001b[49m\u001b[38;5;241;43m.\u001b[39;49m\u001b[43msplit\u001b[49m(\u001b[38;5;124m\"\u001b[39m\u001b[38;5;124m, \u001b[39m\u001b[38;5;124m\"\u001b[39m))\n",
      "\u001b[0;31mAttributeError\u001b[0m: 'list' object has no attribute 'split'"
     ]
    }
   ],
   "source": [
    "import numpy as np \n",
    "\n",
    "artists_df['NICKNAME'] = artists_df['NICKNAME'].apply(lambda x : x.split(\", \"))"
   ]
  },
  {
   "cell_type": "code",
   "execution_count": null,
   "id": "5c9fd42c",
   "metadata": {},
   "outputs": [],
   "source": [
    "keywords,incident_date, n_months, level_fame, language"
   ]
  },
  {
   "cell_type": "code",
   "execution_count": 231,
   "id": "574597d2",
   "metadata": {},
   "outputs": [],
   "source": [
    "taylor_tweets_2 = run_the_tweet(artists_df.iloc[1]['NICKNAME'], artists_df.iloc[1]['DATE OF CANCELLATION'], 12, artists_df.iloc[1]['LEVEL FAME'], 'en')\n",
    "\n",
    "taylor_tweets_2['cleaned_tweet'] = taylor_tweets_2.Text.apply(clean_text)"
   ]
  },
  {
   "cell_type": "code",
   "execution_count": 238,
   "id": "40b854d6",
   "metadata": {},
   "outputs": [],
   "source": [
    "classified_sentiment_ts2 = get_sentiment_score_classification(get_sentiment_score_dictionary(taylor_tweets_2[['cleaned_tweet']]))"
   ]
  },
  {
   "cell_type": "code",
   "execution_count": 244,
   "id": "9bd7ee63",
   "metadata": {},
   "outputs": [],
   "source": [
    "taylor_tweets_3 = run_the_tweet(artists_df.iloc[1]['NICKNAME'], artists_df.iloc[1]['DATE OF CANCELLATION'], 1, artists_df.iloc[1]['LEVEL FAME'], 'en')\n",
    "\n",
    "taylor_tweets_3['cleaned_tweet'] = taylor_tweets_3.Text.apply(clean_text)"
   ]
  },
  {
   "cell_type": "code",
   "execution_count": 247,
   "id": "0d63c3c4",
   "metadata": {},
   "outputs": [],
   "source": [
    "tt3_sentscores = get_sentiment_score_dictionary(taylor_tweets_3[['cleaned_tweet']])"
   ]
  },
  {
   "cell_type": "code",
   "execution_count": 250,
   "id": "c56affc3",
   "metadata": {},
   "outputs": [],
   "source": [
    "taylor_scores_only = pd.merge(taylor_tweets_3, pd.DataFrame.from_dict(tt3_sentscores), left_index= True, right_index= True)"
   ]
  },
  {
   "cell_type": "code",
   "execution_count": 292,
   "id": "70a9a559",
   "metadata": {},
   "outputs": [],
   "source": [
    "taylor_df = pd.merge(taylor_scores_only, pd.DataFrame.from_dict(get_sentiment_score_classification(tt3_sentscores)), right_index=True, left_index=True)"
   ]
  },
  {
   "cell_type": "code",
   "execution_count": 294,
   "id": "8def01da",
   "metadata": {},
   "outputs": [
    {
     "data": {
      "text/html": [
       "<div>\n",
       "<style scoped>\n",
       "    .dataframe tbody tr th:only-of-type {\n",
       "        vertical-align: middle;\n",
       "    }\n",
       "\n",
       "    .dataframe tbody tr th {\n",
       "        vertical-align: top;\n",
       "    }\n",
       "\n",
       "    .dataframe thead th {\n",
       "        text-align: right;\n",
       "    }\n",
       "</style>\n",
       "<table border=\"1\" class=\"dataframe\">\n",
       "  <thead>\n",
       "    <tr style=\"text-align: right;\">\n",
       "      <th></th>\n",
       "      <th>Datetime</th>\n",
       "      <th>retweet</th>\n",
       "      <th>likes</th>\n",
       "      <th>Text</th>\n",
       "      <th>Username</th>\n",
       "      <th>cleaned_tweet</th>\n",
       "      <th>Positive</th>\n",
       "      <th>Neutral</th>\n",
       "      <th>Negative</th>\n",
       "      <th>0</th>\n",
       "    </tr>\n",
       "  </thead>\n",
       "  <tbody>\n",
       "    <tr>\n",
       "      <th>3157</th>\n",
       "      <td>2022-08-31</td>\n",
       "      <td>74</td>\n",
       "      <td>588</td>\n",
       "      <td>Taylor Swift's best days on Spotify in 2022\\n#...</td>\n",
       "      <td>SpotifySwiftie</td>\n",
       "      <td>taylor swift's best days on spotify in 2022 37...</td>\n",
       "      <td>0.952261</td>\n",
       "      <td>0.045677</td>\n",
       "      <td>0.002062</td>\n",
       "      <td>Extremely Positive</td>\n",
       "    </tr>\n",
       "    <tr>\n",
       "      <th>3158</th>\n",
       "      <td>2022-08-31</td>\n",
       "      <td>38</td>\n",
       "      <td>396</td>\n",
       "      <td>just got a work email that said “i hope you ar...</td>\n",
       "      <td>brittanygibsonn</td>\n",
       "      <td>just got a work email that said \"i hope you ar...</td>\n",
       "      <td>0.684937</td>\n",
       "      <td>0.306684</td>\n",
       "      <td>0.008378</td>\n",
       "      <td>Extremely Positive</td>\n",
       "    </tr>\n",
       "    <tr>\n",
       "      <th>3159</th>\n",
       "      <td>2022-08-31</td>\n",
       "      <td>19</td>\n",
       "      <td>80</td>\n",
       "      <td>New releases are coming from Taylor Swift, Joh...</td>\n",
       "      <td>TIME</td>\n",
       "      <td>new releases are coming from taylor swift, joh...</td>\n",
       "      <td>0.572115</td>\n",
       "      <td>0.424348</td>\n",
       "      <td>0.003536</td>\n",
       "      <td>Extremely Positive</td>\n",
       "    </tr>\n",
       "    <tr>\n",
       "      <th>3160</th>\n",
       "      <td>2022-08-31</td>\n",
       "      <td>20</td>\n",
       "      <td>460</td>\n",
       "      <td>i think hannah waddingham should pull a taylor...</td>\n",
       "      <td>hadyoubigtime</td>\n",
       "      <td>i think hannah waddingham should pull a taylor...</td>\n",
       "      <td>0.138880</td>\n",
       "      <td>0.826264</td>\n",
       "      <td>0.034856</td>\n",
       "      <td>Positive</td>\n",
       "    </tr>\n",
       "    <tr>\n",
       "      <th>3161</th>\n",
       "      <td>2022-08-31</td>\n",
       "      <td>60</td>\n",
       "      <td>903</td>\n",
       "      <td>Taylor Swift has now surpassed 7 Billion strea...</td>\n",
       "      <td>spotify_swift</td>\n",
       "      <td>taylor swift has now surpassed 7 billion strea...</td>\n",
       "      <td>0.702198</td>\n",
       "      <td>0.293580</td>\n",
       "      <td>0.004222</td>\n",
       "      <td>Extremely Positive</td>\n",
       "    </tr>\n",
       "  </tbody>\n",
       "</table>\n",
       "</div>"
      ],
      "text/plain": [
       "        Datetime  retweet  likes  \\\n",
       "3157  2022-08-31       74    588   \n",
       "3158  2022-08-31       38    396   \n",
       "3159  2022-08-31       19     80   \n",
       "3160  2022-08-31       20    460   \n",
       "3161  2022-08-31       60    903   \n",
       "\n",
       "                                                   Text         Username  \\\n",
       "3157  Taylor Swift's best days on Spotify in 2022\\n#...   SpotifySwiftie   \n",
       "3158  just got a work email that said “i hope you ar...  brittanygibsonn   \n",
       "3159  New releases are coming from Taylor Swift, Joh...             TIME   \n",
       "3160  i think hannah waddingham should pull a taylor...    hadyoubigtime   \n",
       "3161  Taylor Swift has now surpassed 7 Billion strea...    spotify_swift   \n",
       "\n",
       "                                          cleaned_tweet  Positive   Neutral  \\\n",
       "3157  taylor swift's best days on spotify in 2022 37...  0.952261  0.045677   \n",
       "3158  just got a work email that said \"i hope you ar...  0.684937  0.306684   \n",
       "3159  new releases are coming from taylor swift, joh...  0.572115  0.424348   \n",
       "3160  i think hannah waddingham should pull a taylor...  0.138880  0.826264   \n",
       "3161  taylor swift has now surpassed 7 billion strea...  0.702198  0.293580   \n",
       "\n",
       "      Negative                   0  \n",
       "3157  0.002062  Extremely Positive  \n",
       "3158  0.008378  Extremely Positive  \n",
       "3159  0.003536  Extremely Positive  \n",
       "3160  0.034856            Positive  \n",
       "3161  0.004222  Extremely Positive  "
      ]
     },
     "execution_count": 294,
     "metadata": {},
     "output_type": "execute_result"
    }
   ],
   "source": [
    "taylor_df.tail()"
   ]
  },
  {
   "cell_type": "code",
   "execution_count": 254,
   "id": "a0fec299",
   "metadata": {},
   "outputs": [],
   "source": [
    "taylor_df.rename(columns = {0:'classified_sentiment'}, inplace = True)"
   ]
  },
  {
   "cell_type": "code",
   "execution_count": 263,
   "id": "ac2cf911",
   "metadata": {},
   "outputs": [],
   "source": [
    "import datetime"
   ]
  },
  {
   "cell_type": "code",
   "execution_count": 293,
   "id": "6e314b0c",
   "metadata": {},
   "outputs": [],
   "source": [
    "taylor_df['Datetime'] = taylor_df['Datetime'].apply(lambda x: str(x)[0:10])\n",
    "\n",
    "#taylor_df['Datetime'] = taylor_df['Datetime'].apply(lambda x: x[0:10])"
   ]
  }
 ],
 "metadata": {
  "kernelspec": {
   "display_name": "Python 3 (ipykernel)",
   "language": "python",
   "name": "python3"
  },
  "language_info": {
   "codemirror_mode": {
    "name": "ipython",
    "version": 3
   },
   "file_extension": ".py",
   "mimetype": "text/x-python",
   "name": "python",
   "nbconvert_exporter": "python",
   "pygments_lexer": "ipython3",
   "version": "3.8.12"
  },
  "toc": {
   "base_numbering": 1,
   "nav_menu": {},
   "number_sections": true,
   "sideBar": true,
   "skip_h1_title": false,
   "title_cell": "Table of Contents",
   "title_sidebar": "Contents",
   "toc_cell": false,
   "toc_position": {},
   "toc_section_display": true,
   "toc_window_display": false
  }
 },
 "nbformat": 4,
 "nbformat_minor": 5
}
